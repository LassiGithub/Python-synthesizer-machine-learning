{
 "cells": [
  {
   "cell_type": "markdown",
   "id": "c14f5084",
   "metadata": {},
   "source": [
    "# Introduction"
   ]
  },
  {
   "cell_type": "markdown",
   "id": "a814866b",
   "metadata": {},
   "source": [
    "This is a machine learning project using my earlier python synthesizer project.\n",
    "\n",
    "A synthesizer is a machine that can generate sound. It creates different sounds based on the parameters you choose for it. In this project, I teach a neural network to predict these parameters based on the synthesized sound. I use tensorflow's keras for of the machine learning. \n",
    "\n",
    "---"
   ]
  },
  {
   "cell_type": "markdown",
   "id": "7d64135a",
   "metadata": {},
   "source": [
    "# Imports"
   ]
  },
  {
   "cell_type": "code",
   "execution_count": 1,
   "id": "f21cf131",
   "metadata": {},
   "outputs": [],
   "source": [
    "# For loading batches\n",
    "import pickle \n",
    "\n",
    "# For machine learning\n",
    "import numpy as np\n",
    "import tensorflow as tf\n",
    "from tensorflow import keras\n",
    "from keras.utils.vis_utils import plot_model"
   ]
  },
  {
   "cell_type": "markdown",
   "id": "77b23b1e",
   "metadata": {},
   "source": [
    "# About The Data"
   ]
  },
  {
   "cell_type": "markdown",
   "id": "90dc2964",
   "metadata": {},
   "source": [
    "What makes this very suitable for machine learning, is the fact that we can generate our training data. We simply randomize the parameters for the synthesizer, generate a sound based on that, and the sound-parameters pair will work as the training data. I've generated the training data in the original synthesizer notebook.\n",
    "\n",
    "---\n",
    "\n",
    "Each generated sound was made to be 2 seconds long, with a sample rate of 44100/4. Having a lower sample rate means we need less samples to represent each sound, which makes them a bit more compact. We only lose very high frequency information, which isn't very relevant for these sounds.\n",
    "\n",
    "Instead of representing the sound as a regular audio file, I decided to use fourier transform to get another type of representation. The fourier transform essentially describes a signal in terms of its frequencies, rather than its movement in time. However, it is also possible to have a compromise of sorts, by applying the fourier transform in chunks, where we end up with a matrix representation for the sound. Each row represents a time step, while each column represents the strength of a particular frequency. This way we can represent how the frequency information changes over time, which is actually quite close to how human perceive sounds.\n",
    "\n",
    "Mirroring human perception isn't the only advantage of this. In audio applications, it is quite common to use a convolutional neural network, because convolution allows you to \"scan through\" the audio file looking for a specific pattern. A 2 second audio file with a sample rate of 44100/4 corresponds to an array of 22050 numbers, which is quite a long array to convolve over. By rearranging this into 20 time steps (matrix rows), each containing infromation for 551 frequencies (matrix columns), we only need to convolve over those 20 time steps. This makes the convolution process, and training the network, much faster.\n",
    "\n",
    "---\n",
    "\n",
    "The synthesizer has different kinds of parameters. Some of them are continuous, some of them are categorical. Some parameters weren't randomized, and shouldn't be learned.\n",
    "\n",
    "The parameter values themselves are loaded as simple lists, that doesn't tell what kind of parameters we are dealing with. For that information, there are two more general files that I load under the \"general synthesizer parameter information\" heading:\n",
    "\n",
    "- 'training_data/randomizer_parts.pkl' contains information about which parameters are continuous/categorical/constant\n",
    "- 'training_data/keys.pkl' contains the names of the parameters\n",
    "\n",
    "---\n",
    "\n",
    "I generated the data as batches, each containing 32 examples.  \n",
    "\n",
    "The sound data batches are in the 'training_data/fft/' folder. (fft stands for fast fourier transform).  \n",
    "Since each sound is represented as a matrix of shape (20,551), the shape of these batches is (32,20,551).  \n",
    "\n",
    "The parameter batches are in the 'training_data/parameters/' folder.  \n",
    "The parameters are also given as batches, but since there are multiple different parameters, each file is a *list* of batches.  \n",
    "Since the constant parameters aren't used for training, those items of the list aren't batches, but just a string saying \"constant\".  \n",
    "\n",
    "The continuous parameters are just numbers, the categorical variables have been one-hot-encoded.\n",
    "\n",
    "Below are examples clarifying this"
   ]
  },
  {
   "cell_type": "code",
   "execution_count": 2,
   "id": "1e95a513",
   "metadata": {},
   "outputs": [
    {
     "data": {
      "text/plain": [
       "(32, 20, 551)"
      ]
     },
     "execution_count": 2,
     "metadata": {},
     "output_type": "execute_result"
    }
   ],
   "source": [
    "# Shape of a sound batch\n",
    "X_batch_example = np.load(f'training_data/fft/fft_batch_{0}.npy')\n",
    "X_batch_example.shape"
   ]
  },
  {
   "cell_type": "code",
   "execution_count": 3,
   "id": "b2c4c0a8",
   "metadata": {},
   "outputs": [
    {
     "name": "stdout",
     "output_type": "stream",
     "text": [
      "Length of list = amount of parameters: 46 \n",
      "\n",
      "Each item in the list is a batch for a specific parameter, with a length of: 32 \n",
      "\n",
      "Except for the constant parameters, which are just a string saying: constant \n",
      "\n",
      "A numerical variable batch (first 5 examples): \n",
      " [0.29331256 0.38375954 0.62783282 0.46206089 0.48295211] \n",
      "\n",
      "A categorical variable batch (first 5 examples): \n",
      " [[0 0 1]\n",
      " [0 0 1]\n",
      " [0 1 0]\n",
      " [0 1 0]\n",
      " [0 1 0]] \n",
      "\n"
     ]
    }
   ],
   "source": [
    "# Shape of a parameter batch\n",
    "with open(f'training_data/parameters/parameter_batches_{0}.pkl', 'rb') as f:\n",
    "    y_batch_example = pickle.load(f)\n",
    "\n",
    "print('Length of list = amount of parameters:', len(y_batch_example), '\\n')\n",
    "print('Each item in the list is a batch for a specific parameter, with a length of:', len(y_batch_example[9]), '\\n')\n",
    "print('Except for the constant parameters, which are just a string saying:', y_batch_example[0], '\\n')\n",
    "\n",
    "print('A numerical variable batch (first 5 examples):', '\\n', y_batch_example[9][:5], '\\n')\n",
    "print('A categorical variable batch (first 5 examples):', '\\n', y_batch_example[10][:5], '\\n')"
   ]
  },
  {
   "cell_type": "markdown",
   "id": "c273010d",
   "metadata": {},
   "source": [
    "# General Synthesizer Parameter Information"
   ]
  },
  {
   "cell_type": "markdown",
   "id": "a38fb9d9",
   "metadata": {},
   "source": [
    "These two files contain information about the names and types of the parameters.  \n",
    "They're turned into variables here, and used later when defining the data loader and the model."
   ]
  },
  {
   "cell_type": "code",
   "execution_count": 4,
   "id": "7654a09b",
   "metadata": {},
   "outputs": [],
   "source": [
    "# Load parameter keys file\n",
    "with open(f'training_data/keys.pkl', 'rb') as f:\n",
    "    parameter_keys = pickle.load(f)\n",
    "            \n",
    "# Load randomizer parts file\n",
    "with open(f'training_data/randomizer_parts.pkl', 'rb') as f:\n",
    "    parameter_randomizer_parts = pickle.load(f)\n",
    "            \n",
    "# Turn parameter keys file into a list of parameter names\n",
    "parameter_names = []\n",
    "for i in range(len(parameter_keys)):\n",
    "    key_path = parameter_keys[i]\n",
    "\n",
    "    name = \"\"\n",
    "    for j in range(len(key_path)):\n",
    "        name = name + str(key_path[j])\n",
    "        if j != len(key_path) - 1:\n",
    "            name = name + \"_\"\n",
    "\n",
    "    parameter_names.append(name)"
   ]
  },
  {
   "cell_type": "markdown",
   "id": "006e4f1e",
   "metadata": {},
   "source": [
    "# Data Loader"
   ]
  },
  {
   "cell_type": "markdown",
   "id": "7d0e27a8",
   "metadata": {},
   "source": [
    "Because the training data was generated, it was possible to a lot of data. This makes it difficult to fit all of it into the computer's memory during the training. Luckily, keras has functionality to load the data during the training.\n",
    "\n",
    "The class below defines how the data will be loaded during the training. The \"getitem\" function is called before training each batch, and will return the batch to be used for that particular training step. The \"index\" parameter for that function is the number of the training step (number of the batch). \n",
    "\n",
    "The sound data batch (X) is a single numpy array. The synthesizer parameters are actually returned as a dictionary of batches. Each dictionary entry is a batch for a single parameter. This is something keras allows us to do, which is to have multiple output layers for our neural network."
   ]
  },
  {
   "cell_type": "code",
   "execution_count": 5,
   "id": "c4407f9b",
   "metadata": {},
   "outputs": [],
   "source": [
    "class DataLoader(keras.utils.Sequence):\n",
    "    def __init__(self, batch_ids, parameter_names, batch_size=32):\n",
    "        self.batch_amount = len(batch_ids)\n",
    "        self.batch_size = batch_size\n",
    "        self.batch_ids = batch_ids\n",
    "        self.parameter_names = parameter_names\n",
    "\n",
    "    def __len__(self):\n",
    "        return self.batch_amount\n",
    "    \n",
    "    # This function will be called before training a batch, it will return the batch to be trained on\n",
    "    def __getitem__(self, index):\n",
    "        # Convert training step index into batch number\n",
    "        batch_number = self.batch_ids[index]\n",
    "        \n",
    "        # Load sound data batch\n",
    "        X_fft = np.load(f'training_data/fft/fft_batch_{batch_number}.npy')\n",
    "        X = {'in_fft': X_fft}\n",
    "        \n",
    "        # Load parameter data batch\n",
    "        y = {}\n",
    "        with open(f'training_data/parameters/parameter_batches_{batch_number}.pkl', 'rb') as f:\n",
    "            y_parameters = pickle.load(f)\n",
    "        \n",
    "        # Convert it into a dictionary of individual parameter batches\n",
    "        # Here we leave out the constant parameters, which are not used for training\n",
    "        for i in range(len(y_parameters)):\n",
    "            parameter_name = self.parameter_names[i]\n",
    "            parameter_batch = y_parameters[i]\n",
    "            if type(parameter_batch) == str and parameter_batch == 'constant':\n",
    "                continue\n",
    "            else:\n",
    "                y[f'out_{parameter_name}'] = parameter_batch\n",
    "\n",
    "        return X, y\n",
    "    \n",
    "    # This function is called after every epoch\n",
    "    # here it's used to shuffle the batches, so that each epoch goes through them in a different order\n",
    "    def on_epoch_end(self):\n",
    "        np.random.shuffle(self.batch_ids)"
   ]
  },
  {
   "cell_type": "markdown",
   "id": "8070ecaa",
   "metadata": {},
   "source": [
    "# Model"
   ]
  },
  {
   "cell_type": "markdown",
   "id": "9fa255b9",
   "metadata": {},
   "source": [
    "The model itself is a neural network with the following structure:  \n",
    "Input layer -> Convolution layer -> Regular fully connected layer -> Output layers\n",
    "\n",
    "The main source of complexity in the cell below, is the fact that there are so many output layers. Every synthesizer parameter to be learned has its own output layer, in total 38. The numerical and categorical synthesizer parameters also require different types of output layers.  "
   ]
  },
  {
   "cell_type": "code",
   "execution_count": 6,
   "id": "c9a1df83",
   "metadata": {},
   "outputs": [],
   "source": [
    "# Information for the shape of the sound data batch (for the shape of the convolution layer)\n",
    "X_batch_example = np.load(f'training_data/fft/fft_batch_{0}.npy')\n",
    "fft_chunk_size_half = X_batch_example.shape[2]\n",
    "fft_chunk_amount = X_batch_example.shape[1]\n",
    "\n",
    "# Input layer\n",
    "fft_input = keras.Input(shape=(fft_chunk_amount,fft_chunk_size_half), name='in_fft')\n",
    "\n",
    "# Convolution layer\n",
    "x = keras.layers.Conv1D(filters=256, kernel_size=3, activation = keras.activations.relu)(fft_input)\n",
    "x = keras.layers.Flatten()(x)\n",
    "\n",
    "# Regular fully connected layer\n",
    "x = keras.layers.Dense(256, activation = keras.activations.relu)(x)\n",
    "\n",
    "\n",
    "# Output layers\n",
    "# Since there are so many different outputs, we define these with a loop\n",
    "loss = {}\n",
    "metrics = {}\n",
    "output_layers = []\n",
    "\n",
    "for i in range(len(parameter_names)):\n",
    "    if parameter_randomizer_parts[i]['random_type'] == 'constant':\n",
    "        continue\n",
    "    \n",
    "    # Categorical variabels are one-hot encoded numpy arrays\n",
    "    elif parameter_randomizer_parts[i]['random_type'] == 'choice':\n",
    "        label_amount = len(parameter_randomizer_parts[i]['random_values'])\n",
    "        layer_name = f'out_{parameter_names[i]}'\n",
    "        loss[layer_name] = keras.losses.CategoricalCrossentropy()\n",
    "        metrics[layer_name] = keras.metrics.categorical_accuracy\n",
    "        layer = keras.layers.Dense(label_amount,  activation = keras.activations.softmax, name=layer_name)(x)\n",
    "        output_layers.append(layer)\n",
    "        \n",
    "    # Numerical variables are numpy float scalars\n",
    "    elif parameter_randomizer_parts[i]['random_type'] == 'range':\n",
    "        layer_name = f'out_{parameter_names[i]}'\n",
    "        loss[layer_name] = keras.losses.MeanAbsoluteError()\n",
    "        layer = keras.layers.Dense(1, name=layer_name)(x)\n",
    "        output_layers.append(layer)\n",
    "\n",
    "# Compile model\n",
    "model = keras.Model(inputs=[fft_input], outputs=output_layers)\n",
    "model.compile(loss = loss,\n",
    "              optimizer = keras.optimizers.SGD(),\n",
    "              metrics=metrics)"
   ]
  },
  {
   "cell_type": "code",
   "execution_count": 7,
   "id": "458b0346",
   "metadata": {
    "scrolled": false
   },
   "outputs": [
    {
     "name": "stdout",
     "output_type": "stream",
     "text": [
      "Model: \"model\"\n",
      "__________________________________________________________________________________________________\n",
      " Layer (type)                   Output Shape         Param #     Connected to                     \n",
      "==================================================================================================\n",
      " in_fft (InputLayer)            [(None, 20, 551)]    0           []                               \n",
      "                                                                                                  \n",
      " conv1d (Conv1D)                (None, 18, 256)      423424      ['in_fft[0][0]']                 \n",
      "                                                                                                  \n",
      " flatten (Flatten)              (None, 4608)         0           ['conv1d[0][0]']                 \n",
      "                                                                                                  \n",
      " dense (Dense)                  (None, 256)          1179904     ['flatten[0][0]']                \n",
      "                                                                                                  \n",
      " out_oscillators_0_waveform (De  (None, 5)           1285        ['dense[0][0]']                  \n",
      " nse)                                                                                             \n",
      "                                                                                                  \n",
      " out_oscillators_0_octave (Dens  (None, 7)           1799        ['dense[0][0]']                  \n",
      " e)                                                                                               \n",
      "                                                                                                  \n",
      " out_oscillators_0_unison_voice  (None, 4)           1028        ['dense[0][0]']                  \n",
      " s (Dense)                                                                                        \n",
      "                                                                                                  \n",
      " out_oscillators_0_unison_detun  (None, 1)           257         ['dense[0][0]']                  \n",
      " e (Dense)                                                                                        \n",
      "                                                                                                  \n",
      " out_filter_type (Dense)        (None, 3)            771         ['dense[0][0]']                  \n",
      "                                                                                                  \n",
      " out_filter_cutoff (Dense)      (None, 1)            257         ['dense[0][0]']                  \n",
      "                                                                                                  \n",
      " out_filter_envelope_attack (De  (None, 1)           257         ['dense[0][0]']                  \n",
      " nse)                                                                                             \n",
      "                                                                                                  \n",
      " out_filter_envelope_decay (Den  (None, 1)           257         ['dense[0][0]']                  \n",
      " se)                                                                                              \n",
      "                                                                                                  \n",
      " out_filter_envelope_sustain (D  (None, 1)           257         ['dense[0][0]']                  \n",
      " ense)                                                                                            \n",
      "                                                                                                  \n",
      " out_filter_envelope_release (D  (None, 1)           257         ['dense[0][0]']                  \n",
      " ense)                                                                                            \n",
      "                                                                                                  \n",
      " out_filter_envelope_amount (De  (None, 1)           257         ['dense[0][0]']                  \n",
      " nse)                                                                                             \n",
      "                                                                                                  \n",
      " out_filter_lfo_waveform (Dense  (None, 4)           1028        ['dense[0][0]']                  \n",
      " )                                                                                                \n",
      "                                                                                                  \n",
      " out_filter_lfo_frequency (Dens  (None, 1)           257         ['dense[0][0]']                  \n",
      " e)                                                                                               \n",
      "                                                                                                  \n",
      " out_filter_lfo_delay (Dense)   (None, 1)            257         ['dense[0][0]']                  \n",
      "                                                                                                  \n",
      " out_filter_lfo_amount (Dense)  (None, 1)            257         ['dense[0][0]']                  \n",
      "                                                                                                  \n",
      " out_pitch_envelope_attack (Den  (None, 1)           257         ['dense[0][0]']                  \n",
      " se)                                                                                              \n",
      "                                                                                                  \n",
      " out_pitch_envelope_decay (Dens  (None, 1)           257         ['dense[0][0]']                  \n",
      " e)                                                                                               \n",
      "                                                                                                  \n",
      " out_pitch_envelope_sustain (De  (None, 1)           257         ['dense[0][0]']                  \n",
      " nse)                                                                                             \n",
      "                                                                                                  \n",
      " out_pitch_envelope_release (De  (None, 1)           257         ['dense[0][0]']                  \n",
      " nse)                                                                                             \n",
      "                                                                                                  \n",
      " out_pitch_envelope_amount (Den  (None, 1)           257         ['dense[0][0]']                  \n",
      " se)                                                                                              \n",
      "                                                                                                  \n",
      " out_pitch_lfo_waveform (Dense)  (None, 4)           1028        ['dense[0][0]']                  \n",
      "                                                                                                  \n",
      " out_pitch_lfo_frequency (Dense  (None, 1)           257         ['dense[0][0]']                  \n",
      " )                                                                                                \n",
      "                                                                                                  \n",
      " out_pitch_lfo_delay (Dense)    (None, 1)            257         ['dense[0][0]']                  \n",
      "                                                                                                  \n",
      " out_pitch_lfo_amount (Dense)   (None, 1)            257         ['dense[0][0]']                  \n",
      "                                                                                                  \n",
      " out_amplitude_envelope_attack   (None, 1)           257         ['dense[0][0]']                  \n",
      " (Dense)                                                                                          \n",
      "                                                                                                  \n",
      " out_amplitude_envelope_decay (  (None, 1)           257         ['dense[0][0]']                  \n",
      " Dense)                                                                                           \n",
      "                                                                                                  \n",
      " out_amplitude_envelope_sustain  (None, 1)           257         ['dense[0][0]']                  \n"
     ]
    },
    {
     "name": "stdout",
     "output_type": "stream",
     "text": [
      "  (Dense)                                                                                         \n",
      "                                                                                                  \n",
      " out_amplitude_envelope_release  (None, 1)           257         ['dense[0][0]']                  \n",
      "  (Dense)                                                                                         \n",
      "                                                                                                  \n",
      " out_amplitude_lfo_waveform (De  (None, 4)           1028        ['dense[0][0]']                  \n",
      " nse)                                                                                             \n",
      "                                                                                                  \n",
      " out_amplitude_lfo_frequency (D  (None, 1)           257         ['dense[0][0]']                  \n",
      " ense)                                                                                            \n",
      "                                                                                                  \n",
      " out_amplitude_lfo_delay (Dense  (None, 1)           257         ['dense[0][0]']                  \n",
      " )                                                                                                \n",
      "                                                                                                  \n",
      " out_amplitude_lfo_amount (Dens  (None, 1)           257         ['dense[0][0]']                  \n",
      " e)                                                                                               \n",
      "                                                                                                  \n",
      " out_delay_time (Dense)         (None, 1)            257         ['dense[0][0]']                  \n",
      "                                                                                                  \n",
      " out_delay_feedback (Dense)     (None, 1)            257         ['dense[0][0]']                  \n",
      "                                                                                                  \n",
      " out_delay_repetitions (Dense)  (None, 5)            1285        ['dense[0][0]']                  \n",
      "                                                                                                  \n",
      " out_delay_mix (Dense)          (None, 1)            257         ['dense[0][0]']                  \n",
      "                                                                                                  \n",
      " out_reverb_time (Dense)        (None, 1)            257         ['dense[0][0]']                  \n",
      "                                                                                                  \n",
      " out_reverb_mix (Dense)         (None, 1)            257         ['dense[0][0]']                  \n",
      "                                                                                                  \n",
      "==================================================================================================\n",
      "Total params: 1,620,290\n",
      "Trainable params: 1,620,290\n",
      "Non-trainable params: 0\n",
      "__________________________________________________________________________________________________\n",
      "None\n"
     ]
    }
   ],
   "source": [
    "# Summary of the model\n",
    "# Most of these are output layers\n",
    "print(model.summary())"
   ]
  },
  {
   "cell_type": "markdown",
   "id": "99465f18",
   "metadata": {},
   "source": [
    "# Training"
   ]
  },
  {
   "cell_type": "markdown",
   "id": "7a6216eb",
   "metadata": {},
   "source": [
    "Below is an example of training with 9 batches for 20 epochs.  \n",
    "I did also train a model with 3500 batches for 30 epochs, which learned much better.  \n",
    "That bigger model is what I used in the original synthesizer notebook and for the sound examples.  \n",
    "\n",
    "Because of the many output layers, the accuracies printed during the training are a bit troublesome to read.  \n",
    "In practice, there isn't too much to actually see from these accuracies.  \n",
    "They don't reflect the models capabilities as well as hearing the predictions it makes.  \n",
    "\n",
    "One thing to note about the accuracies though, is the fact that the model stopped learning after a while.  \n",
    "Adding even more training data or even more epochs didn't make a change anymore.  \n",
    "In theory, I think the accuracy for this should be able to go all the way near perfect, if things are done right.  \n",
    "\n",
    "I tried out different types of models and different input features (for example the regular audio file), but I wasn't able to find anything that'd work better than what's in this notebook. I suspect that it has more to do with the generated sounds themselves, because I realized that some of the parameters are impossible to predict for certain kinds of sounds. Perhaps these models could be improved simply by taking such things into account when generating the training data.  "
   ]
  },
  {
   "cell_type": "code",
   "execution_count": 8,
   "id": "59245b11",
   "metadata": {},
   "outputs": [],
   "source": [
    "# Create DataLoaders for training\n",
    "train_amt = 9\n",
    "valid_amt = 1\n",
    "G_train = DataLoader(np.arange(train_amt-valid_amt), parameter_names)\n",
    "G_valid = DataLoader(np.arange(valid_amt)+(train_amt-1), parameter_names)"
   ]
  },
  {
   "cell_type": "code",
   "execution_count": 9,
   "id": "9935c0a0",
   "metadata": {
    "scrolled": true
   },
   "outputs": [
    {
     "name": "stdout",
     "output_type": "stream",
     "text": [
      "Epoch 1/20\n",
      "8/8 [==============================] - 9s 275ms/step - loss: 23.8410 - out_oscillators_0_waveform_loss: 1.6391 - out_oscillators_0_octave_loss: 1.9458 - out_oscillators_0_unison_voices_loss: 1.3859 - out_oscillators_0_unison_detune_loss: 0.3487 - out_filter_type_loss: 1.1005 - out_filter_cutoff_loss: 0.4173 - out_filter_envelope_attack_loss: 0.4187 - out_filter_envelope_decay_loss: 0.4136 - out_filter_envelope_sustain_loss: 0.4194 - out_filter_envelope_release_loss: 0.3875 - out_filter_envelope_amount_loss: 0.5321 - out_filter_lfo_waveform_loss: 1.3906 - out_filter_lfo_frequency_loss: 0.3678 - out_filter_lfo_delay_loss: 0.3834 - out_filter_lfo_amount_loss: 0.4637 - out_pitch_envelope_attack_loss: 0.4060 - out_pitch_envelope_decay_loss: 0.3662 - out_pitch_envelope_sustain_loss: 0.4002 - out_pitch_envelope_release_loss: 0.4195 - out_pitch_envelope_amount_loss: 0.5301 - out_pitch_lfo_waveform_loss: 1.3919 - out_pitch_lfo_frequency_loss: 0.4060 - out_pitch_lfo_delay_loss: 0.3856 - out_pitch_lfo_amount_loss: 0.3841 - out_amplitude_envelope_attack_loss: 0.4024 - out_amplitude_envelope_decay_loss: 0.3555 - out_amplitude_envelope_sustain_loss: 0.3402 - out_amplitude_envelope_release_loss: 0.4031 - out_amplitude_lfo_waveform_loss: 1.3958 - out_amplitude_lfo_frequency_loss: 0.3456 - out_amplitude_lfo_delay_loss: 0.3712 - out_amplitude_lfo_amount_loss: 0.3651 - out_delay_time_loss: 0.3859 - out_delay_feedback_loss: 0.4175 - out_delay_repetitions_loss: 1.6116 - out_delay_mix_loss: 0.3866 - out_reverb_time_loss: 0.3684 - out_reverb_mix_loss: 0.3883 - out_oscillators_0_waveform_categorical_accuracy: 0.1953 - out_oscillators_0_octave_categorical_accuracy: 0.1289 - out_oscillators_0_unison_voices_categorical_accuracy: 0.2734 - out_filter_type_categorical_accuracy: 0.3828 - out_filter_lfo_waveform_categorical_accuracy: 0.2578 - out_pitch_lfo_waveform_categorical_accuracy: 0.2266 - out_amplitude_lfo_waveform_categorical_accuracy: 0.2578 - out_delay_repetitions_categorical_accuracy: 0.1953 - val_loss: 21.4314 - val_out_oscillators_0_waveform_loss: 1.6598 - val_out_oscillators_0_octave_loss: 1.9127 - val_out_oscillators_0_unison_voices_loss: 1.3961 - val_out_oscillators_0_unison_detune_loss: 0.3220 - val_out_filter_type_loss: 1.1599 - val_out_filter_cutoff_loss: 0.3180 - val_out_filter_envelope_attack_loss: 0.3268 - val_out_filter_envelope_decay_loss: 0.3221 - val_out_filter_envelope_sustain_loss: 0.2512 - val_out_filter_envelope_release_loss: 0.3056 - val_out_filter_envelope_amount_loss: 0.4904 - val_out_filter_lfo_waveform_loss: 1.3856 - val_out_filter_lfo_frequency_loss: 0.3054 - val_out_filter_lfo_delay_loss: 0.3459 - val_out_filter_lfo_amount_loss: 0.3136 - val_out_pitch_envelope_attack_loss: 0.2675 - val_out_pitch_envelope_decay_loss: 0.2954 - val_out_pitch_envelope_sustain_loss: 0.3210 - val_out_pitch_envelope_release_loss: 0.3627 - val_out_pitch_envelope_amount_loss: 0.5297 - val_out_pitch_lfo_waveform_loss: 1.3807 - val_out_pitch_lfo_frequency_loss: 0.2917 - val_out_pitch_lfo_delay_loss: 0.3352 - val_out_pitch_lfo_amount_loss: 0.2698 - val_out_amplitude_envelope_attack_loss: 0.2814 - val_out_amplitude_envelope_decay_loss: 0.2988 - val_out_amplitude_envelope_sustain_loss: 0.3091 - val_out_amplitude_envelope_release_loss: 0.3325 - val_out_amplitude_lfo_waveform_loss: 1.3906 - val_out_amplitude_lfo_frequency_loss: 0.2771 - val_out_amplitude_lfo_delay_loss: 0.3498 - val_out_amplitude_lfo_amount_loss: 0.3399 - val_out_delay_time_loss: 0.2951 - val_out_delay_feedback_loss: 0.2047 - val_out_delay_repetitions_loss: 1.6067 - val_out_delay_mix_loss: 0.3345 - val_out_reverb_time_loss: 0.2345 - val_out_reverb_mix_loss: 0.3076 - val_out_oscillators_0_waveform_categorical_accuracy: 0.1562 - val_out_oscillators_0_octave_categorical_accuracy: 0.1562 - val_out_oscillators_0_unison_voices_categorical_accuracy: 0.1875 - val_out_filter_type_categorical_accuracy: 0.2188 - val_out_filter_lfo_waveform_categorical_accuracy: 0.2812 - val_out_pitch_lfo_waveform_categorical_accuracy: 0.2812 - val_out_amplitude_lfo_waveform_categorical_accuracy: 0.1250 - val_out_delay_repetitions_categorical_accuracy: 0.2812\n",
      "Epoch 2/20\n",
      "8/8 [==============================] - 0s 25ms/step - loss: 20.6422 - out_oscillators_0_waveform_loss: 1.6172 - out_oscillators_0_octave_loss: 1.9391 - out_oscillators_0_unison_voices_loss: 1.3807 - out_oscillators_0_unison_detune_loss: 0.2541 - out_filter_type_loss: 1.0914 - out_filter_cutoff_loss: 0.2689 - out_filter_envelope_attack_loss: 0.3197 - out_filter_envelope_decay_loss: 0.2887 - out_filter_envelope_sustain_loss: 0.2931 - out_filter_envelope_release_loss: 0.2878 - out_filter_envelope_amount_loss: 0.5269 - out_filter_lfo_waveform_loss: 1.3861 - out_filter_lfo_frequency_loss: 0.2641 - out_filter_lfo_delay_loss: 0.2758 - out_filter_lfo_amount_loss: 0.3075 - out_pitch_envelope_attack_loss: 0.2783 - out_pitch_envelope_decay_loss: 0.2510 - out_pitch_envelope_sustain_loss: 0.2885 - out_pitch_envelope_release_loss: 0.3069 - out_pitch_envelope_amount_loss: 0.5265 - out_pitch_lfo_waveform_loss: 1.3936 - out_pitch_lfo_frequency_loss: 0.2831 - out_pitch_lfo_delay_loss: 0.2880 - out_pitch_lfo_amount_loss: 0.2722 - out_amplitude_envelope_attack_loss: 0.2829 - out_amplitude_envelope_decay_loss: 0.2809 - out_amplitude_envelope_sustain_loss: 0.2810 - out_amplitude_envelope_release_loss: 0.2737 - out_amplitude_lfo_waveform_loss: 1.3884 - out_amplitude_lfo_frequency_loss: 0.2568 - out_amplitude_lfo_delay_loss: 0.2673 - out_amplitude_lfo_amount_loss: 0.2702 - out_delay_time_loss: 0.2704 - out_delay_feedback_loss: 0.2734 - out_delay_repetitions_loss: 1.6107 - out_delay_mix_loss: 0.2807 - out_reverb_time_loss: 0.2508 - out_reverb_mix_loss: 0.2656 - out_oscillators_0_waveform_categorical_accuracy: 0.1914 - out_oscillators_0_octave_categorical_accuracy: 0.1523 - out_oscillators_0_unison_voices_categorical_accuracy: 0.3086 - out_filter_type_categorical_accuracy: 0.4062 - out_filter_lfo_waveform_categorical_accuracy: 0.2812 - out_pitch_lfo_waveform_categorical_accuracy: 0.2695 - out_amplitude_lfo_waveform_categorical_accuracy: 0.2539 - out_delay_repetitions_categorical_accuracy: 0.1914 - val_loss: 20.4485 - val_out_oscillators_0_waveform_loss: 1.6315 - val_out_oscillators_0_octave_loss: 1.9220 - val_out_oscillators_0_unison_voices_loss: 1.3974 - val_out_oscillators_0_unison_detune_loss: 0.2931 - val_out_filter_type_loss: 1.1628 - val_out_filter_cutoff_loss: 0.2824 - val_out_filter_envelope_attack_loss: 0.2982 - val_out_filter_envelope_decay_loss: 0.2505 - val_out_filter_envelope_sustain_loss: 0.2589 - val_out_filter_envelope_release_loss: 0.3017 - val_out_filter_envelope_amount_loss: 0.4750 - val_out_filter_lfo_waveform_loss: 1.3834 - val_out_filter_lfo_frequency_loss: 0.2660 - val_out_filter_lfo_delay_loss: 0.2864 - val_out_filter_lfo_amount_loss: 0.2387 - val_out_pitch_envelope_attack_loss: 0.2686 - val_out_pitch_envelope_decay_loss: 0.2701 - val_out_pitch_envelope_sustain_loss: 0.2863 - val_out_pitch_envelope_release_loss: 0.3114 - val_out_pitch_envelope_amount_loss: 0.5143 - val_out_pitch_lfo_waveform_loss: 1.3783 - val_out_pitch_lfo_frequency_loss: 0.2372 - val_out_pitch_lfo_delay_loss: 0.2807 - val_out_pitch_lfo_amount_loss: 0.2757 - val_out_amplitude_envelope_attack_loss: 0.2810 - val_out_amplitude_envelope_decay_loss: 0.2786 - val_out_amplitude_envelope_sustain_loss: 0.2699 - val_out_amplitude_envelope_release_loss: 0.2633 - val_out_amplitude_lfo_waveform_loss: 1.4007 - val_out_amplitude_lfo_frequency_loss: 0.2302 - val_out_amplitude_lfo_delay_loss: 0.3271 - val_out_amplitude_lfo_amount_loss: 0.2880 - val_out_delay_time_loss: 0.2765 - val_out_delay_feedback_loss: 0.2141 - val_out_delay_repetitions_loss: 1.6089 - val_out_delay_mix_loss: 0.2969 - val_out_reverb_time_loss: 0.1997 - val_out_reverb_mix_loss: 0.2429 - val_out_oscillators_0_waveform_categorical_accuracy: 0.2188 - val_out_oscillators_0_octave_categorical_accuracy: 0.1562 - val_out_oscillators_0_unison_voices_categorical_accuracy: 0.1562 - val_out_filter_type_categorical_accuracy: 0.2188 - val_out_filter_lfo_waveform_categorical_accuracy: 0.3438 - val_out_pitch_lfo_waveform_categorical_accuracy: 0.2812 - val_out_amplitude_lfo_waveform_categorical_accuracy: 0.0938 - val_out_delay_repetitions_categorical_accuracy: 0.2500\n"
     ]
    },
    {
     "name": "stdout",
     "output_type": "stream",
     "text": [
      "Epoch 3/20\n",
      "8/8 [==============================] - 0s 25ms/step - loss: 19.8758 - out_oscillators_0_waveform_loss: 1.5914 - out_oscillators_0_octave_loss: 1.9288 - out_oscillators_0_unison_voices_loss: 1.3759 - out_oscillators_0_unison_detune_loss: 0.2384 - out_filter_type_loss: 1.0851 - out_filter_cutoff_loss: 0.2551 - out_filter_envelope_attack_loss: 0.2882 - out_filter_envelope_decay_loss: 0.2571 - out_filter_envelope_sustain_loss: 0.2577 - out_filter_envelope_release_loss: 0.2655 - out_filter_envelope_amount_loss: 0.5172 - out_filter_lfo_waveform_loss: 1.3821 - out_filter_lfo_frequency_loss: 0.2387 - out_filter_lfo_delay_loss: 0.2526 - out_filter_lfo_amount_loss: 0.2675 - out_pitch_envelope_attack_loss: 0.2584 - out_pitch_envelope_decay_loss: 0.2327 - out_pitch_envelope_sustain_loss: 0.2559 - out_pitch_envelope_release_loss: 0.2652 - out_pitch_envelope_amount_loss: 0.5211 - out_pitch_lfo_waveform_loss: 1.3880 - out_pitch_lfo_frequency_loss: 0.2574 - out_pitch_lfo_delay_loss: 0.2575 - out_pitch_lfo_amount_loss: 0.2538 - out_amplitude_envelope_attack_loss: 0.2567 - out_amplitude_envelope_decay_loss: 0.2601 - out_amplitude_envelope_sustain_loss: 0.2566 - out_amplitude_envelope_release_loss: 0.2480 - out_amplitude_lfo_waveform_loss: 1.3811 - out_amplitude_lfo_frequency_loss: 0.2489 - out_amplitude_lfo_delay_loss: 0.2431 - out_amplitude_lfo_amount_loss: 0.2471 - out_delay_time_loss: 0.2457 - out_delay_feedback_loss: 0.2486 - out_delay_repetitions_loss: 1.6049 - out_delay_mix_loss: 0.2641 - out_reverb_time_loss: 0.2314 - out_reverb_mix_loss: 0.2482 - out_oscillators_0_waveform_categorical_accuracy: 0.2539 - out_oscillators_0_octave_categorical_accuracy: 0.1719 - out_oscillators_0_unison_voices_categorical_accuracy: 0.2930 - out_filter_type_categorical_accuracy: 0.4062 - out_filter_lfo_waveform_categorical_accuracy: 0.3086 - out_pitch_lfo_waveform_categorical_accuracy: 0.2812 - out_amplitude_lfo_waveform_categorical_accuracy: 0.2773 - out_delay_repetitions_categorical_accuracy: 0.1992 - val_loss: 20.0765 - val_out_oscillators_0_waveform_loss: 1.6040 - val_out_oscillators_0_octave_loss: 1.9304 - val_out_oscillators_0_unison_voices_loss: 1.3975 - val_out_oscillators_0_unison_detune_loss: 0.2657 - val_out_filter_type_loss: 1.1437 - val_out_filter_cutoff_loss: 0.2717 - val_out_filter_envelope_attack_loss: 0.2779 - val_out_filter_envelope_decay_loss: 0.2416 - val_out_filter_envelope_sustain_loss: 0.2402 - val_out_filter_envelope_release_loss: 0.2995 - val_out_filter_envelope_amount_loss: 0.4650 - val_out_filter_lfo_waveform_loss: 1.3822 - val_out_filter_lfo_frequency_loss: 0.2724 - val_out_filter_lfo_delay_loss: 0.2637 - val_out_filter_lfo_amount_loss: 0.2292 - val_out_pitch_envelope_attack_loss: 0.2388 - val_out_pitch_envelope_decay_loss: 0.2708 - val_out_pitch_envelope_sustain_loss: 0.3036 - val_out_pitch_envelope_release_loss: 0.2915 - val_out_pitch_envelope_amount_loss: 0.5119 - val_out_pitch_lfo_waveform_loss: 1.3779 - val_out_pitch_lfo_frequency_loss: 0.2437 - val_out_pitch_lfo_delay_loss: 0.2623 - val_out_pitch_lfo_amount_loss: 0.2562 - val_out_amplitude_envelope_attack_loss: 0.2515 - val_out_amplitude_envelope_decay_loss: 0.2769 - val_out_amplitude_envelope_sustain_loss: 0.2547 - val_out_amplitude_envelope_release_loss: 0.2382 - val_out_amplitude_lfo_waveform_loss: 1.3987 - val_out_amplitude_lfo_frequency_loss: 0.2268 - val_out_amplitude_lfo_delay_loss: 0.3075 - val_out_amplitude_lfo_amount_loss: 0.2529 - val_out_delay_time_loss: 0.2799 - val_out_delay_feedback_loss: 0.2200 - val_out_delay_repetitions_loss: 1.6090 - val_out_delay_mix_loss: 0.2865 - val_out_reverb_time_loss: 0.1959 - val_out_reverb_mix_loss: 0.2367 - val_out_oscillators_0_waveform_categorical_accuracy: 0.3125 - val_out_oscillators_0_octave_categorical_accuracy: 0.0938 - val_out_oscillators_0_unison_voices_categorical_accuracy: 0.1875 - val_out_filter_type_categorical_accuracy: 0.2188 - val_out_filter_lfo_waveform_categorical_accuracy: 0.3438 - val_out_pitch_lfo_waveform_categorical_accuracy: 0.3125 - val_out_amplitude_lfo_waveform_categorical_accuracy: 0.0938 - val_out_delay_repetitions_categorical_accuracy: 0.2500\n",
      "Epoch 4/20\n",
      "8/8 [==============================] - 0s 25ms/step - loss: 19.6179 - out_oscillators_0_waveform_loss: 1.5719 - out_oscillators_0_octave_loss: 1.9176 - out_oscillators_0_unison_voices_loss: 1.3730 - out_oscillators_0_unison_detune_loss: 0.2363 - out_filter_type_loss: 1.0819 - out_filter_cutoff_loss: 0.2477 - out_filter_envelope_attack_loss: 0.2750 - out_filter_envelope_decay_loss: 0.2485 - out_filter_envelope_sustain_loss: 0.2497 - out_filter_envelope_release_loss: 0.2559 - out_filter_envelope_amount_loss: 0.5107 - out_filter_lfo_waveform_loss: 1.3768 - out_filter_lfo_frequency_loss: 0.2331 - out_filter_lfo_delay_loss: 0.2462 - out_filter_lfo_amount_loss: 0.2568 - out_pitch_envelope_attack_loss: 0.2524 - out_pitch_envelope_decay_loss: 0.2305 - out_pitch_envelope_sustain_loss: 0.2510 - out_pitch_envelope_release_loss: 0.2537 - out_pitch_envelope_amount_loss: 0.5171 - out_pitch_lfo_waveform_loss: 1.3849 - out_pitch_lfo_frequency_loss: 0.2537 - out_pitch_lfo_delay_loss: 0.2481 - out_pitch_lfo_amount_loss: 0.2472 - out_amplitude_envelope_attack_loss: 0.2486 - out_amplitude_envelope_decay_loss: 0.2527 - out_amplitude_envelope_sustain_loss: 0.2520 - out_amplitude_envelope_release_loss: 0.2319 - out_amplitude_lfo_waveform_loss: 1.3781 - out_amplitude_lfo_frequency_loss: 0.2457 - out_amplitude_lfo_delay_loss: 0.2313 - out_amplitude_lfo_amount_loss: 0.2428 - out_delay_time_loss: 0.2461 - out_delay_feedback_loss: 0.2412 - out_delay_repetitions_loss: 1.5983 - out_delay_mix_loss: 0.2623 - out_reverb_time_loss: 0.2265 - out_reverb_mix_loss: 0.2405 - out_oscillators_0_waveform_categorical_accuracy: 0.3125 - out_oscillators_0_octave_categorical_accuracy: 0.2461 - out_oscillators_0_unison_voices_categorical_accuracy: 0.3008 - out_filter_type_categorical_accuracy: 0.4062 - out_filter_lfo_waveform_categorical_accuracy: 0.3008 - out_pitch_lfo_waveform_categorical_accuracy: 0.2656 - out_amplitude_lfo_waveform_categorical_accuracy: 0.3359 - out_delay_repetitions_categorical_accuracy: 0.2109 - val_loss: 20.0527 - val_out_oscillators_0_waveform_loss: 1.5897 - val_out_oscillators_0_octave_loss: 1.9274 - val_out_oscillators_0_unison_voices_loss: 1.4005 - val_out_oscillators_0_unison_detune_loss: 0.2684 - val_out_filter_type_loss: 1.1504 - val_out_filter_cutoff_loss: 0.2681 - val_out_filter_envelope_attack_loss: 0.2897 - val_out_filter_envelope_decay_loss: 0.2275 - val_out_filter_envelope_sustain_loss: 0.2513 - val_out_filter_envelope_release_loss: 0.2990 - val_out_filter_envelope_amount_loss: 0.4630 - val_out_filter_lfo_waveform_loss: 1.3837 - val_out_filter_lfo_frequency_loss: 0.2741 - val_out_filter_lfo_delay_loss: 0.2606 - val_out_filter_lfo_amount_loss: 0.2261 - val_out_pitch_envelope_attack_loss: 0.2612 - val_out_pitch_envelope_decay_loss: 0.2673 - val_out_pitch_envelope_sustain_loss: 0.2779 - val_out_pitch_envelope_release_loss: 0.2892 - val_out_pitch_envelope_amount_loss: 0.5017 - val_out_pitch_lfo_waveform_loss: 1.3771 - val_out_pitch_lfo_frequency_loss: 0.2401 - val_out_pitch_lfo_delay_loss: 0.2656 - val_out_pitch_lfo_amount_loss: 0.2691 - val_out_amplitude_envelope_attack_loss: 0.2576 - val_out_amplitude_envelope_decay_loss: 0.2727 - val_out_amplitude_envelope_sustain_loss: 0.2575 - val_out_amplitude_envelope_release_loss: 0.2265 - val_out_amplitude_lfo_waveform_loss: 1.3991 - val_out_amplitude_lfo_frequency_loss: 0.2273 - val_out_amplitude_lfo_delay_loss: 0.2992 - val_out_amplitude_lfo_amount_loss: 0.2509 - val_out_delay_time_loss: 0.2768 - val_out_delay_feedback_loss: 0.2229 - val_out_delay_repetitions_loss: 1.6095 - val_out_delay_mix_loss: 0.2802 - val_out_reverb_time_loss: 0.2059 - val_out_reverb_mix_loss: 0.2378 - val_out_oscillators_0_waveform_categorical_accuracy: 0.3438 - val_out_oscillators_0_octave_categorical_accuracy: 0.2188 - val_out_oscillators_0_unison_voices_categorical_accuracy: 0.1562 - val_out_filter_type_categorical_accuracy: 0.2188 - val_out_filter_lfo_waveform_categorical_accuracy: 0.3438 - val_out_pitch_lfo_waveform_categorical_accuracy: 0.2812 - val_out_amplitude_lfo_waveform_categorical_accuracy: 0.1875 - val_out_delay_repetitions_categorical_accuracy: 0.2188\n"
     ]
    },
    {
     "name": "stdout",
     "output_type": "stream",
     "text": [
      "Epoch 5/20\n",
      "8/8 [==============================] - 0s 25ms/step - loss: 19.4012 - out_oscillators_0_waveform_loss: 1.5555 - out_oscillators_0_octave_loss: 1.9062 - out_oscillators_0_unison_voices_loss: 1.3678 - out_oscillators_0_unison_detune_loss: 0.2334 - out_filter_type_loss: 1.0785 - out_filter_cutoff_loss: 0.2430 - out_filter_envelope_attack_loss: 0.2686 - out_filter_envelope_decay_loss: 0.2430 - out_filter_envelope_sustain_loss: 0.2427 - out_filter_envelope_release_loss: 0.2476 - out_filter_envelope_amount_loss: 0.5035 - out_filter_lfo_waveform_loss: 1.3732 - out_filter_lfo_frequency_loss: 0.2315 - out_filter_lfo_delay_loss: 0.2409 - out_filter_lfo_amount_loss: 0.2531 - out_pitch_envelope_attack_loss: 0.2421 - out_pitch_envelope_decay_loss: 0.2259 - out_pitch_envelope_sustain_loss: 0.2406 - out_pitch_envelope_release_loss: 0.2437 - out_pitch_envelope_amount_loss: 0.5119 - out_pitch_lfo_waveform_loss: 1.3809 - out_pitch_lfo_frequency_loss: 0.2478 - out_pitch_lfo_delay_loss: 0.2451 - out_pitch_lfo_amount_loss: 0.2441 - out_amplitude_envelope_attack_loss: 0.2461 - out_amplitude_envelope_decay_loss: 0.2498 - out_amplitude_envelope_sustain_loss: 0.2473 - out_amplitude_envelope_release_loss: 0.2232 - out_amplitude_lfo_waveform_loss: 1.3751 - out_amplitude_lfo_frequency_loss: 0.2398 - out_amplitude_lfo_delay_loss: 0.2288 - out_amplitude_lfo_amount_loss: 0.2367 - out_delay_time_loss: 0.2391 - out_delay_feedback_loss: 0.2329 - out_delay_repetitions_loss: 1.5936 - out_delay_mix_loss: 0.2599 - out_reverb_time_loss: 0.2263 - out_reverb_mix_loss: 0.2318 - out_oscillators_0_waveform_categorical_accuracy: 0.3516 - out_oscillators_0_octave_categorical_accuracy: 0.3438 - out_oscillators_0_unison_voices_categorical_accuracy: 0.3438 - out_filter_type_categorical_accuracy: 0.4102 - out_filter_lfo_waveform_categorical_accuracy: 0.2852 - out_pitch_lfo_waveform_categorical_accuracy: 0.2930 - out_amplitude_lfo_waveform_categorical_accuracy: 0.3281 - out_delay_repetitions_categorical_accuracy: 0.2461 - val_loss: 20.0171 - val_out_oscillators_0_waveform_loss: 1.5724 - val_out_oscillators_0_octave_loss: 1.9374 - val_out_oscillators_0_unison_voices_loss: 1.4094 - val_out_oscillators_0_unison_detune_loss: 0.2764 - val_out_filter_type_loss: 1.1400 - val_out_filter_cutoff_loss: 0.2653 - val_out_filter_envelope_attack_loss: 0.2812 - val_out_filter_envelope_decay_loss: 0.2256 - val_out_filter_envelope_sustain_loss: 0.2546 - val_out_filter_envelope_release_loss: 0.3005 - val_out_filter_envelope_amount_loss: 0.4701 - val_out_filter_lfo_waveform_loss: 1.3852 - val_out_filter_lfo_frequency_loss: 0.2830 - val_out_filter_lfo_delay_loss: 0.2525 - val_out_filter_lfo_amount_loss: 0.2255 - val_out_pitch_envelope_attack_loss: 0.2493 - val_out_pitch_envelope_decay_loss: 0.2685 - val_out_pitch_envelope_sustain_loss: 0.2790 - val_out_pitch_envelope_release_loss: 0.2810 - val_out_pitch_envelope_amount_loss: 0.5052 - val_out_pitch_lfo_waveform_loss: 1.3787 - val_out_pitch_lfo_frequency_loss: 0.2445 - val_out_pitch_lfo_delay_loss: 0.2490 - val_out_pitch_lfo_amount_loss: 0.2578 - val_out_amplitude_envelope_attack_loss: 0.2540 - val_out_amplitude_envelope_decay_loss: 0.2850 - val_out_amplitude_envelope_sustain_loss: 0.2408 - val_out_amplitude_envelope_release_loss: 0.2175 - val_out_amplitude_lfo_waveform_loss: 1.4002 - val_out_amplitude_lfo_frequency_loss: 0.2226 - val_out_amplitude_lfo_delay_loss: 0.3039 - val_out_amplitude_lfo_amount_loss: 0.2517 - val_out_delay_time_loss: 0.2749 - val_out_delay_feedback_loss: 0.2354 - val_out_delay_repetitions_loss: 1.6088 - val_out_delay_mix_loss: 0.2771 - val_out_reverb_time_loss: 0.2010 - val_out_reverb_mix_loss: 0.2520 - val_out_oscillators_0_waveform_categorical_accuracy: 0.3125 - val_out_oscillators_0_octave_categorical_accuracy: 0.1875 - val_out_oscillators_0_unison_voices_categorical_accuracy: 0.1562 - val_out_filter_type_categorical_accuracy: 0.2188 - val_out_filter_lfo_waveform_categorical_accuracy: 0.3125 - val_out_pitch_lfo_waveform_categorical_accuracy: 0.2812 - val_out_amplitude_lfo_waveform_categorical_accuracy: 0.2188 - val_out_delay_repetitions_categorical_accuracy: 0.2188\n",
      "Epoch 6/20\n",
      "8/8 [==============================] - 0s 25ms/step - loss: 19.2728 - out_oscillators_0_waveform_loss: 1.5391 - out_oscillators_0_octave_loss: 1.8968 - out_oscillators_0_unison_voices_loss: 1.3655 - out_oscillators_0_unison_detune_loss: 0.2306 - out_filter_type_loss: 1.0768 - out_filter_cutoff_loss: 0.2364 - out_filter_envelope_attack_loss: 0.2689 - out_filter_envelope_decay_loss: 0.2377 - out_filter_envelope_sustain_loss: 0.2379 - out_filter_envelope_release_loss: 0.2426 - out_filter_envelope_amount_loss: 0.5040 - out_filter_lfo_waveform_loss: 1.3694 - out_filter_lfo_frequency_loss: 0.2285 - out_filter_lfo_delay_loss: 0.2412 - out_filter_lfo_amount_loss: 0.2479 - out_pitch_envelope_attack_loss: 0.2432 - out_pitch_envelope_decay_loss: 0.2234 - out_pitch_envelope_sustain_loss: 0.2378 - out_pitch_envelope_release_loss: 0.2431 - out_pitch_envelope_amount_loss: 0.5088 - out_pitch_lfo_waveform_loss: 1.3806 - out_pitch_lfo_frequency_loss: 0.2467 - out_pitch_lfo_delay_loss: 0.2452 - out_pitch_lfo_amount_loss: 0.2397 - out_amplitude_envelope_attack_loss: 0.2424 - out_amplitude_envelope_decay_loss: 0.2460 - out_amplitude_envelope_sustain_loss: 0.2445 - out_amplitude_envelope_release_loss: 0.2136 - out_amplitude_lfo_waveform_loss: 1.3726 - out_amplitude_lfo_frequency_loss: 0.2374 - out_amplitude_lfo_delay_loss: 0.2215 - out_amplitude_lfo_amount_loss: 0.2311 - out_delay_time_loss: 0.2389 - out_delay_feedback_loss: 0.2323 - out_delay_repetitions_loss: 1.5895 - out_delay_mix_loss: 0.2551 - out_reverb_time_loss: 0.2226 - out_reverb_mix_loss: 0.2334 - out_oscillators_0_waveform_categorical_accuracy: 0.3828 - out_oscillators_0_octave_categorical_accuracy: 0.3672 - out_oscillators_0_unison_voices_categorical_accuracy: 0.3477 - out_filter_type_categorical_accuracy: 0.4141 - out_filter_lfo_waveform_categorical_accuracy: 0.2852 - out_pitch_lfo_waveform_categorical_accuracy: 0.2852 - out_amplitude_lfo_waveform_categorical_accuracy: 0.3203 - out_delay_repetitions_categorical_accuracy: 0.2461 - val_loss: 19.9478 - val_out_oscillators_0_waveform_loss: 1.5558 - val_out_oscillators_0_octave_loss: 1.9312 - val_out_oscillators_0_unison_voices_loss: 1.4132 - val_out_oscillators_0_unison_detune_loss: 0.2650 - val_out_filter_type_loss: 1.1417 - val_out_filter_cutoff_loss: 0.2730 - val_out_filter_envelope_attack_loss: 0.2865 - val_out_filter_envelope_decay_loss: 0.2297 - val_out_filter_envelope_sustain_loss: 0.2487 - val_out_filter_envelope_release_loss: 0.2988 - val_out_filter_envelope_amount_loss: 0.4676 - val_out_filter_lfo_waveform_loss: 1.3844 - val_out_filter_lfo_frequency_loss: 0.2880 - val_out_filter_lfo_delay_loss: 0.2543 - val_out_filter_lfo_amount_loss: 0.2283 - val_out_pitch_envelope_attack_loss: 0.2482 - val_out_pitch_envelope_decay_loss: 0.2676 - val_out_pitch_envelope_sustain_loss: 0.2868 - val_out_pitch_envelope_release_loss: 0.2803 - val_out_pitch_envelope_amount_loss: 0.5053 - val_out_pitch_lfo_waveform_loss: 1.3789 - val_out_pitch_lfo_frequency_loss: 0.2483 - val_out_pitch_lfo_delay_loss: 0.2504 - val_out_pitch_lfo_amount_loss: 0.2509 - val_out_amplitude_envelope_attack_loss: 0.2539 - val_out_amplitude_envelope_decay_loss: 0.2751 - val_out_amplitude_envelope_sustain_loss: 0.2371 - val_out_amplitude_envelope_release_loss: 0.2098 - val_out_amplitude_lfo_waveform_loss: 1.3993 - val_out_amplitude_lfo_frequency_loss: 0.2261 - val_out_amplitude_lfo_delay_loss: 0.2984 - val_out_amplitude_lfo_amount_loss: 0.2394 - val_out_delay_time_loss: 0.2751 - val_out_delay_feedback_loss: 0.2260 - val_out_delay_repetitions_loss: 1.6108 - val_out_delay_mix_loss: 0.2807 - val_out_reverb_time_loss: 0.1921 - val_out_reverb_mix_loss: 0.2413 - val_out_oscillators_0_waveform_categorical_accuracy: 0.3438 - val_out_oscillators_0_octave_categorical_accuracy: 0.1875 - val_out_oscillators_0_unison_voices_categorical_accuracy: 0.1250 - val_out_filter_type_categorical_accuracy: 0.2188 - val_out_filter_lfo_waveform_categorical_accuracy: 0.3438 - val_out_pitch_lfo_waveform_categorical_accuracy: 0.3125 - val_out_amplitude_lfo_waveform_categorical_accuracy: 0.2188 - val_out_delay_repetitions_categorical_accuracy: 0.2500\n"
     ]
    },
    {
     "name": "stdout",
     "output_type": "stream",
     "text": [
      "Epoch 7/20\n",
      "8/8 [==============================] - 0s 25ms/step - loss: 19.1035 - out_oscillators_0_waveform_loss: 1.5253 - out_oscillators_0_octave_loss: 1.8882 - out_oscillators_0_unison_voices_loss: 1.3615 - out_oscillators_0_unison_detune_loss: 0.2284 - out_filter_type_loss: 1.0737 - out_filter_cutoff_loss: 0.2314 - out_filter_envelope_attack_loss: 0.2636 - out_filter_envelope_decay_loss: 0.2363 - out_filter_envelope_sustain_loss: 0.2367 - out_filter_envelope_release_loss: 0.2415 - out_filter_envelope_amount_loss: 0.4959 - out_filter_lfo_waveform_loss: 1.3666 - out_filter_lfo_frequency_loss: 0.2255 - out_filter_lfo_delay_loss: 0.2361 - out_filter_lfo_amount_loss: 0.2458 - out_pitch_envelope_attack_loss: 0.2374 - out_pitch_envelope_decay_loss: 0.2214 - out_pitch_envelope_sustain_loss: 0.2317 - out_pitch_envelope_release_loss: 0.2311 - out_pitch_envelope_amount_loss: 0.5036 - out_pitch_lfo_waveform_loss: 1.3765 - out_pitch_lfo_frequency_loss: 0.2431 - out_pitch_lfo_delay_loss: 0.2396 - out_pitch_lfo_amount_loss: 0.2366 - out_amplitude_envelope_attack_loss: 0.2402 - out_amplitude_envelope_decay_loss: 0.2427 - out_amplitude_envelope_sustain_loss: 0.2403 - out_amplitude_envelope_release_loss: 0.2052 - out_amplitude_lfo_waveform_loss: 1.3699 - out_amplitude_lfo_frequency_loss: 0.2356 - out_amplitude_lfo_delay_loss: 0.2191 - out_amplitude_lfo_amount_loss: 0.2263 - out_delay_time_loss: 0.2312 - out_delay_feedback_loss: 0.2279 - out_delay_repetitions_loss: 1.5856 - out_delay_mix_loss: 0.2508 - out_reverb_time_loss: 0.2228 - out_reverb_mix_loss: 0.2281 - out_oscillators_0_waveform_categorical_accuracy: 0.3711 - out_oscillators_0_octave_categorical_accuracy: 0.3750 - out_oscillators_0_unison_voices_categorical_accuracy: 0.3633 - out_filter_type_categorical_accuracy: 0.4102 - out_filter_lfo_waveform_categorical_accuracy: 0.2930 - out_pitch_lfo_waveform_categorical_accuracy: 0.2891 - out_amplitude_lfo_waveform_categorical_accuracy: 0.3281 - out_delay_repetitions_categorical_accuracy: 0.2930 - val_loss: 20.0018 - val_out_oscillators_0_waveform_loss: 1.5456 - val_out_oscillators_0_octave_loss: 1.9257 - val_out_oscillators_0_unison_voices_loss: 1.4161 - val_out_oscillators_0_unison_detune_loss: 0.2719 - val_out_filter_type_loss: 1.1474 - val_out_filter_cutoff_loss: 0.2648 - val_out_filter_envelope_attack_loss: 0.2989 - val_out_filter_envelope_decay_loss: 0.2173 - val_out_filter_envelope_sustain_loss: 0.2509 - val_out_filter_envelope_release_loss: 0.2993 - val_out_filter_envelope_amount_loss: 0.4658 - val_out_filter_lfo_waveform_loss: 1.3860 - val_out_filter_lfo_frequency_loss: 0.2815 - val_out_filter_lfo_delay_loss: 0.2570 - val_out_filter_lfo_amount_loss: 0.2278 - val_out_pitch_envelope_attack_loss: 0.2748 - val_out_pitch_envelope_decay_loss: 0.2647 - val_out_pitch_envelope_sustain_loss: 0.2851 - val_out_pitch_envelope_release_loss: 0.2841 - val_out_pitch_envelope_amount_loss: 0.5025 - val_out_pitch_lfo_waveform_loss: 1.3768 - val_out_pitch_lfo_frequency_loss: 0.2501 - val_out_pitch_lfo_delay_loss: 0.2552 - val_out_pitch_lfo_amount_loss: 0.2784 - val_out_amplitude_envelope_attack_loss: 0.2640 - val_out_amplitude_envelope_decay_loss: 0.2707 - val_out_amplitude_envelope_sustain_loss: 0.2370 - val_out_amplitude_envelope_release_loss: 0.2047 - val_out_amplitude_lfo_waveform_loss: 1.3969 - val_out_amplitude_lfo_frequency_loss: 0.2287 - val_out_amplitude_lfo_delay_loss: 0.2972 - val_out_amplitude_lfo_amount_loss: 0.2371 - val_out_delay_time_loss: 0.2769 - val_out_delay_feedback_loss: 0.2246 - val_out_delay_repetitions_loss: 1.6134 - val_out_delay_mix_loss: 0.2784 - val_out_reverb_time_loss: 0.1993 - val_out_reverb_mix_loss: 0.2453 - val_out_oscillators_0_waveform_categorical_accuracy: 0.3438 - val_out_oscillators_0_octave_categorical_accuracy: 0.2500 - val_out_oscillators_0_unison_voices_categorical_accuracy: 0.1250 - val_out_filter_type_categorical_accuracy: 0.2188 - val_out_filter_lfo_waveform_categorical_accuracy: 0.3438 - val_out_pitch_lfo_waveform_categorical_accuracy: 0.2812 - val_out_amplitude_lfo_waveform_categorical_accuracy: 0.2500 - val_out_delay_repetitions_categorical_accuracy: 0.2500\n",
      "Epoch 8/20\n",
      "8/8 [==============================] - 0s 25ms/step - loss: 18.9827 - out_oscillators_0_waveform_loss: 1.5120 - out_oscillators_0_octave_loss: 1.8794 - out_oscillators_0_unison_voices_loss: 1.3583 - out_oscillators_0_unison_detune_loss: 0.2240 - out_filter_type_loss: 1.0725 - out_filter_cutoff_loss: 0.2267 - out_filter_envelope_attack_loss: 0.2602 - out_filter_envelope_decay_loss: 0.2338 - out_filter_envelope_sustain_loss: 0.2329 - out_filter_envelope_release_loss: 0.2342 - out_filter_envelope_amount_loss: 0.4930 - out_filter_lfo_waveform_loss: 1.3630 - out_filter_lfo_frequency_loss: 0.2221 - out_filter_lfo_delay_loss: 0.2354 - out_filter_lfo_amount_loss: 0.2420 - out_pitch_envelope_attack_loss: 0.2381 - out_pitch_envelope_decay_loss: 0.2183 - out_pitch_envelope_sustain_loss: 0.2261 - out_pitch_envelope_release_loss: 0.2361 - out_pitch_envelope_amount_loss: 0.5011 - out_pitch_lfo_waveform_loss: 1.3754 - out_pitch_lfo_frequency_loss: 0.2419 - out_pitch_lfo_delay_loss: 0.2390 - out_pitch_lfo_amount_loss: 0.2368 - out_amplitude_envelope_attack_loss: 0.2371 - out_amplitude_envelope_decay_loss: 0.2398 - out_amplitude_envelope_sustain_loss: 0.2376 - out_amplitude_envelope_release_loss: 0.2031 - out_amplitude_lfo_waveform_loss: 1.3658 - out_amplitude_lfo_frequency_loss: 0.2342 - out_amplitude_lfo_delay_loss: 0.2156 - out_amplitude_lfo_amount_loss: 0.2218 - out_delay_time_loss: 0.2288 - out_delay_feedback_loss: 0.2264 - out_delay_repetitions_loss: 1.5813 - out_delay_mix_loss: 0.2460 - out_reverb_time_loss: 0.2171 - out_reverb_mix_loss: 0.2254 - out_oscillators_0_waveform_categorical_accuracy: 0.3945 - out_oscillators_0_octave_categorical_accuracy: 0.3633 - out_oscillators_0_unison_voices_categorical_accuracy: 0.3633 - out_filter_type_categorical_accuracy: 0.4180 - out_filter_lfo_waveform_categorical_accuracy: 0.3047 - out_pitch_lfo_waveform_categorical_accuracy: 0.3008 - out_amplitude_lfo_waveform_categorical_accuracy: 0.3477 - out_delay_repetitions_categorical_accuracy: 0.3203 - val_loss: 20.0114 - val_out_oscillators_0_waveform_loss: 1.5327 - val_out_oscillators_0_octave_loss: 1.9262 - val_out_oscillators_0_unison_voices_loss: 1.4230 - val_out_oscillators_0_unison_detune_loss: 0.2612 - val_out_filter_type_loss: 1.1432 - val_out_filter_cutoff_loss: 0.2832 - val_out_filter_envelope_attack_loss: 0.2953 - val_out_filter_envelope_decay_loss: 0.2445 - val_out_filter_envelope_sustain_loss: 0.2468 - val_out_filter_envelope_release_loss: 0.2977 - val_out_filter_envelope_amount_loss: 0.4651 - val_out_filter_lfo_waveform_loss: 1.3855 - val_out_filter_lfo_frequency_loss: 0.2989 - val_out_filter_lfo_delay_loss: 0.2588 - val_out_filter_lfo_amount_loss: 0.2268 - val_out_pitch_envelope_attack_loss: 0.2477 - val_out_pitch_envelope_decay_loss: 0.2653 - val_out_pitch_envelope_sustain_loss: 0.2839 - val_out_pitch_envelope_release_loss: 0.2819 - val_out_pitch_envelope_amount_loss: 0.5074 - val_out_pitch_lfo_waveform_loss: 1.3756 - val_out_pitch_lfo_frequency_loss: 0.2446 - val_out_pitch_lfo_delay_loss: 0.2645 - val_out_pitch_lfo_amount_loss: 0.2601 - val_out_amplitude_envelope_attack_loss: 0.2595 - val_out_amplitude_envelope_decay_loss: 0.2778 - val_out_amplitude_envelope_sustain_loss: 0.2396 - val_out_amplitude_envelope_release_loss: 0.1995 - val_out_amplitude_lfo_waveform_loss: 1.3995 - val_out_amplitude_lfo_frequency_loss: 0.2279 - val_out_amplitude_lfo_delay_loss: 0.3046 - val_out_amplitude_lfo_amount_loss: 0.2391 - val_out_delay_time_loss: 0.2794 - val_out_delay_feedback_loss: 0.2307 - val_out_delay_repetitions_loss: 1.6149 - val_out_delay_mix_loss: 0.2818 - val_out_reverb_time_loss: 0.1955 - val_out_reverb_mix_loss: 0.2415 - val_out_oscillators_0_waveform_categorical_accuracy: 0.3438 - val_out_oscillators_0_octave_categorical_accuracy: 0.2500 - val_out_oscillators_0_unison_voices_categorical_accuracy: 0.1250 - val_out_filter_type_categorical_accuracy: 0.2188 - val_out_filter_lfo_waveform_categorical_accuracy: 0.3438 - val_out_pitch_lfo_waveform_categorical_accuracy: 0.3438 - val_out_amplitude_lfo_waveform_categorical_accuracy: 0.2500 - val_out_delay_repetitions_categorical_accuracy: 0.2500\n"
     ]
    },
    {
     "name": "stdout",
     "output_type": "stream",
     "text": [
      "Epoch 9/20\n",
      "8/8 [==============================] - 0s 25ms/step - loss: 18.8444 - out_oscillators_0_waveform_loss: 1.4986 - out_oscillators_0_octave_loss: 1.8701 - out_oscillators_0_unison_voices_loss: 1.3550 - out_oscillators_0_unison_detune_loss: 0.2248 - out_filter_type_loss: 1.0681 - out_filter_cutoff_loss: 0.2263 - out_filter_envelope_attack_loss: 0.2591 - out_filter_envelope_decay_loss: 0.2349 - out_filter_envelope_sustain_loss: 0.2309 - out_filter_envelope_release_loss: 0.2340 - out_filter_envelope_amount_loss: 0.4860 - out_filter_lfo_waveform_loss: 1.3602 - out_filter_lfo_frequency_loss: 0.2234 - out_filter_lfo_delay_loss: 0.2340 - out_filter_lfo_amount_loss: 0.2411 - out_pitch_envelope_attack_loss: 0.2252 - out_pitch_envelope_decay_loss: 0.2161 - out_pitch_envelope_sustain_loss: 0.2253 - out_pitch_envelope_release_loss: 0.2307 - out_pitch_envelope_amount_loss: 0.4964 - out_pitch_lfo_waveform_loss: 1.3707 - out_pitch_lfo_frequency_loss: 0.2398 - out_pitch_lfo_delay_loss: 0.2339 - out_pitch_lfo_amount_loss: 0.2346 - out_amplitude_envelope_attack_loss: 0.2358 - out_amplitude_envelope_decay_loss: 0.2368 - out_amplitude_envelope_sustain_loss: 0.2341 - out_amplitude_envelope_release_loss: 0.1951 - out_amplitude_lfo_waveform_loss: 1.3637 - out_amplitude_lfo_frequency_loss: 0.2300 - out_amplitude_lfo_delay_loss: 0.2111 - out_amplitude_lfo_amount_loss: 0.2171 - out_delay_time_loss: 0.2223 - out_delay_feedback_loss: 0.2217 - out_delay_repetitions_loss: 1.5790 - out_delay_mix_loss: 0.2409 - out_reverb_time_loss: 0.2141 - out_reverb_mix_loss: 0.2237 - out_oscillators_0_waveform_categorical_accuracy: 0.3828 - out_oscillators_0_octave_categorical_accuracy: 0.3438 - out_oscillators_0_unison_voices_categorical_accuracy: 0.3711 - out_filter_type_categorical_accuracy: 0.4258 - out_filter_lfo_waveform_categorical_accuracy: 0.3281 - out_pitch_lfo_waveform_categorical_accuracy: 0.3047 - out_amplitude_lfo_waveform_categorical_accuracy: 0.3359 - out_delay_repetitions_categorical_accuracy: 0.3086 - val_loss: 19.9431 - val_out_oscillators_0_waveform_loss: 1.5238 - val_out_oscillators_0_octave_loss: 1.9189 - val_out_oscillators_0_unison_voices_loss: 1.4309 - val_out_oscillators_0_unison_detune_loss: 0.2665 - val_out_filter_type_loss: 1.1304 - val_out_filter_cutoff_loss: 0.2754 - val_out_filter_envelope_attack_loss: 0.2900 - val_out_filter_envelope_decay_loss: 0.2170 - val_out_filter_envelope_sustain_loss: 0.2480 - val_out_filter_envelope_release_loss: 0.2962 - val_out_filter_envelope_amount_loss: 0.4676 - val_out_filter_lfo_waveform_loss: 1.3887 - val_out_filter_lfo_frequency_loss: 0.2864 - val_out_filter_lfo_delay_loss: 0.2522 - val_out_filter_lfo_amount_loss: 0.2274 - val_out_pitch_envelope_attack_loss: 0.2481 - val_out_pitch_envelope_decay_loss: 0.2688 - val_out_pitch_envelope_sustain_loss: 0.2951 - val_out_pitch_envelope_release_loss: 0.2827 - val_out_pitch_envelope_amount_loss: 0.5162 - val_out_pitch_lfo_waveform_loss: 1.3754 - val_out_pitch_lfo_frequency_loss: 0.2473 - val_out_pitch_lfo_delay_loss: 0.2631 - val_out_pitch_lfo_amount_loss: 0.2611 - val_out_amplitude_envelope_attack_loss: 0.2637 - val_out_amplitude_envelope_decay_loss: 0.2742 - val_out_amplitude_envelope_sustain_loss: 0.2393 - val_out_amplitude_envelope_release_loss: 0.2009 - val_out_amplitude_lfo_waveform_loss: 1.3984 - val_out_amplitude_lfo_frequency_loss: 0.2308 - val_out_amplitude_lfo_delay_loss: 0.2893 - val_out_amplitude_lfo_amount_loss: 0.2359 - val_out_delay_time_loss: 0.2765 - val_out_delay_feedback_loss: 0.2373 - val_out_delay_repetitions_loss: 1.6172 - val_out_delay_mix_loss: 0.2720 - val_out_reverb_time_loss: 0.1912 - val_out_reverb_mix_loss: 0.2392 - val_out_oscillators_0_waveform_categorical_accuracy: 0.3438 - val_out_oscillators_0_octave_categorical_accuracy: 0.2812 - val_out_oscillators_0_unison_voices_categorical_accuracy: 0.1562 - val_out_filter_type_categorical_accuracy: 0.2500 - val_out_filter_lfo_waveform_categorical_accuracy: 0.3438 - val_out_pitch_lfo_waveform_categorical_accuracy: 0.3125 - val_out_amplitude_lfo_waveform_categorical_accuracy: 0.2500 - val_out_delay_repetitions_categorical_accuracy: 0.1875\n",
      "Epoch 10/20\n",
      "8/8 [==============================] - 0s 25ms/step - loss: 18.7247 - out_oscillators_0_waveform_loss: 1.4861 - out_oscillators_0_octave_loss: 1.8614 - out_oscillators_0_unison_voices_loss: 1.3514 - out_oscillators_0_unison_detune_loss: 0.2204 - out_filter_type_loss: 1.0675 - out_filter_cutoff_loss: 0.2185 - out_filter_envelope_attack_loss: 0.2537 - out_filter_envelope_decay_loss: 0.2295 - out_filter_envelope_sustain_loss: 0.2227 - out_filter_envelope_release_loss: 0.2280 - out_filter_envelope_amount_loss: 0.4832 - out_filter_lfo_waveform_loss: 1.3579 - out_filter_lfo_frequency_loss: 0.2190 - out_filter_lfo_delay_loss: 0.2300 - out_filter_lfo_amount_loss: 0.2376 - out_pitch_envelope_attack_loss: 0.2234 - out_pitch_envelope_decay_loss: 0.2117 - out_pitch_envelope_sustain_loss: 0.2243 - out_pitch_envelope_release_loss: 0.2308 - out_pitch_envelope_amount_loss: 0.4914 - out_pitch_lfo_waveform_loss: 1.3691 - out_pitch_lfo_frequency_loss: 0.2348 - out_pitch_lfo_delay_loss: 0.2357 - out_pitch_lfo_amount_loss: 0.2298 - out_amplitude_envelope_attack_loss: 0.2296 - out_amplitude_envelope_decay_loss: 0.2362 - out_amplitude_envelope_sustain_loss: 0.2319 - out_amplitude_envelope_release_loss: 0.1906 - out_amplitude_lfo_waveform_loss: 1.3607 - out_amplitude_lfo_frequency_loss: 0.2283 - out_amplitude_lfo_delay_loss: 0.2117 - out_amplitude_lfo_amount_loss: 0.2153 - out_delay_time_loss: 0.2230 - out_delay_feedback_loss: 0.2215 - out_delay_repetitions_loss: 1.5748 - out_delay_mix_loss: 0.2448 - out_reverb_time_loss: 0.2152 - out_reverb_mix_loss: 0.2232 - out_oscillators_0_waveform_categorical_accuracy: 0.3906 - out_oscillators_0_octave_categorical_accuracy: 0.3477 - out_oscillators_0_unison_voices_categorical_accuracy: 0.3672 - out_filter_type_categorical_accuracy: 0.4258 - out_filter_lfo_waveform_categorical_accuracy: 0.3086 - out_pitch_lfo_waveform_categorical_accuracy: 0.3086 - out_amplitude_lfo_waveform_categorical_accuracy: 0.3438 - out_delay_repetitions_categorical_accuracy: 0.3242 - val_loss: 19.9519 - val_out_oscillators_0_waveform_loss: 1.5128 - val_out_oscillators_0_octave_loss: 1.9127 - val_out_oscillators_0_unison_voices_loss: 1.4368 - val_out_oscillators_0_unison_detune_loss: 0.2587 - val_out_filter_type_loss: 1.1309 - val_out_filter_cutoff_loss: 0.2643 - val_out_filter_envelope_attack_loss: 0.2836 - val_out_filter_envelope_decay_loss: 0.2372 - val_out_filter_envelope_sustain_loss: 0.2509 - val_out_filter_envelope_release_loss: 0.2983 - val_out_filter_envelope_amount_loss: 0.4758 - val_out_filter_lfo_waveform_loss: 1.3839 - val_out_filter_lfo_frequency_loss: 0.3054 - val_out_filter_lfo_delay_loss: 0.2560 - val_out_filter_lfo_amount_loss: 0.2261 - val_out_pitch_envelope_attack_loss: 0.2609 - val_out_pitch_envelope_decay_loss: 0.2630 - val_out_pitch_envelope_sustain_loss: 0.2959 - val_out_pitch_envelope_release_loss: 0.2950 - val_out_pitch_envelope_amount_loss: 0.5165 - val_out_pitch_lfo_waveform_loss: 1.3758 - val_out_pitch_lfo_frequency_loss: 0.2476 - val_out_pitch_lfo_delay_loss: 0.2451 - val_out_pitch_lfo_amount_loss: 0.2479 - val_out_amplitude_envelope_attack_loss: 0.2627 - val_out_amplitude_envelope_decay_loss: 0.2670 - val_out_amplitude_envelope_sustain_loss: 0.2316 - val_out_amplitude_envelope_release_loss: 0.1988 - val_out_amplitude_lfo_waveform_loss: 1.4018 - val_out_amplitude_lfo_frequency_loss: 0.2380 - val_out_amplitude_lfo_delay_loss: 0.2972 - val_out_amplitude_lfo_amount_loss: 0.2391 - val_out_delay_time_loss: 0.2795 - val_out_delay_feedback_loss: 0.2253 - val_out_delay_repetitions_loss: 1.6237 - val_out_delay_mix_loss: 0.2721 - val_out_reverb_time_loss: 0.1959 - val_out_reverb_mix_loss: 0.2383 - val_out_oscillators_0_waveform_categorical_accuracy: 0.3438 - val_out_oscillators_0_octave_categorical_accuracy: 0.2500 - val_out_oscillators_0_unison_voices_categorical_accuracy: 0.1562 - val_out_filter_type_categorical_accuracy: 0.2500 - val_out_filter_lfo_waveform_categorical_accuracy: 0.3438 - val_out_pitch_lfo_waveform_categorical_accuracy: 0.3125 - val_out_amplitude_lfo_waveform_categorical_accuracy: 0.2500 - val_out_delay_repetitions_categorical_accuracy: 0.2188\n"
     ]
    },
    {
     "name": "stdout",
     "output_type": "stream",
     "text": [
      "Epoch 11/20\n",
      "8/8 [==============================] - 0s 25ms/step - loss: 18.6296 - out_oscillators_0_waveform_loss: 1.4704 - out_oscillators_0_octave_loss: 1.8519 - out_oscillators_0_unison_voices_loss: 1.3481 - out_oscillators_0_unison_detune_loss: 0.2196 - out_filter_type_loss: 1.0667 - out_filter_cutoff_loss: 0.2151 - out_filter_envelope_attack_loss: 0.2528 - out_filter_envelope_decay_loss: 0.2266 - out_filter_envelope_sustain_loss: 0.2208 - out_filter_envelope_release_loss: 0.2284 - out_filter_envelope_amount_loss: 0.4817 - out_filter_lfo_waveform_loss: 1.3559 - out_filter_lfo_frequency_loss: 0.2219 - out_filter_lfo_delay_loss: 0.2258 - out_filter_lfo_amount_loss: 0.2339 - out_pitch_envelope_attack_loss: 0.2287 - out_pitch_envelope_decay_loss: 0.2080 - out_pitch_envelope_sustain_loss: 0.2241 - out_pitch_envelope_release_loss: 0.2286 - out_pitch_envelope_amount_loss: 0.4898 - out_pitch_lfo_waveform_loss: 1.3657 - out_pitch_lfo_frequency_loss: 0.2386 - out_pitch_lfo_delay_loss: 0.2340 - out_pitch_lfo_amount_loss: 0.2291 - out_amplitude_envelope_attack_loss: 0.2290 - out_amplitude_envelope_decay_loss: 0.2300 - out_amplitude_envelope_sustain_loss: 0.2287 - out_amplitude_envelope_release_loss: 0.1853 - out_amplitude_lfo_waveform_loss: 1.3589 - out_amplitude_lfo_frequency_loss: 0.2307 - out_amplitude_lfo_delay_loss: 0.2077 - out_amplitude_lfo_amount_loss: 0.2137 - out_delay_time_loss: 0.2183 - out_delay_feedback_loss: 0.2179 - out_delay_repetitions_loss: 1.5700 - out_delay_mix_loss: 0.2375 - out_reverb_time_loss: 0.2151 - out_reverb_mix_loss: 0.2207 - out_oscillators_0_waveform_categorical_accuracy: 0.3945 - out_oscillators_0_octave_categorical_accuracy: 0.3398 - out_oscillators_0_unison_voices_categorical_accuracy: 0.3789 - out_filter_type_categorical_accuracy: 0.4219 - out_filter_lfo_waveform_categorical_accuracy: 0.3398 - out_pitch_lfo_waveform_categorical_accuracy: 0.3203 - out_amplitude_lfo_waveform_categorical_accuracy: 0.3281 - out_delay_repetitions_categorical_accuracy: 0.3516 - val_loss: 19.9820 - val_out_oscillators_0_waveform_loss: 1.5024 - val_out_oscillators_0_octave_loss: 1.9149 - val_out_oscillators_0_unison_voices_loss: 1.4467 - val_out_oscillators_0_unison_detune_loss: 0.2651 - val_out_filter_type_loss: 1.1268 - val_out_filter_cutoff_loss: 0.2652 - val_out_filter_envelope_attack_loss: 0.2968 - val_out_filter_envelope_decay_loss: 0.2262 - val_out_filter_envelope_sustain_loss: 0.2526 - val_out_filter_envelope_release_loss: 0.2957 - val_out_filter_envelope_amount_loss: 0.4773 - val_out_filter_lfo_waveform_loss: 1.3872 - val_out_filter_lfo_frequency_loss: 0.3024 - val_out_filter_lfo_delay_loss: 0.2532 - val_out_filter_lfo_amount_loss: 0.2256 - val_out_pitch_envelope_attack_loss: 0.2593 - val_out_pitch_envelope_decay_loss: 0.2673 - val_out_pitch_envelope_sustain_loss: 0.2952 - val_out_pitch_envelope_release_loss: 0.2848 - val_out_pitch_envelope_amount_loss: 0.5104 - val_out_pitch_lfo_waveform_loss: 1.3750 - val_out_pitch_lfo_frequency_loss: 0.2480 - val_out_pitch_lfo_delay_loss: 0.2462 - val_out_pitch_lfo_amount_loss: 0.2580 - val_out_amplitude_envelope_attack_loss: 0.2647 - val_out_amplitude_envelope_decay_loss: 0.2693 - val_out_amplitude_envelope_sustain_loss: 0.2348 - val_out_amplitude_envelope_release_loss: 0.1929 - val_out_amplitude_lfo_waveform_loss: 1.4059 - val_out_amplitude_lfo_frequency_loss: 0.2323 - val_out_amplitude_lfo_delay_loss: 0.3032 - val_out_amplitude_lfo_amount_loss: 0.2373 - val_out_delay_time_loss: 0.2797 - val_out_delay_feedback_loss: 0.2411 - val_out_delay_repetitions_loss: 1.6204 - val_out_delay_mix_loss: 0.2701 - val_out_reverb_time_loss: 0.1997 - val_out_reverb_mix_loss: 0.2484 - val_out_oscillators_0_waveform_categorical_accuracy: 0.3438 - val_out_oscillators_0_octave_categorical_accuracy: 0.2500 - val_out_oscillators_0_unison_voices_categorical_accuracy: 0.1562 - val_out_filter_type_categorical_accuracy: 0.2500 - val_out_filter_lfo_waveform_categorical_accuracy: 0.3438 - val_out_pitch_lfo_waveform_categorical_accuracy: 0.3125 - val_out_amplitude_lfo_waveform_categorical_accuracy: 0.2188 - val_out_delay_repetitions_categorical_accuracy: 0.2188\n",
      "Epoch 12/20\n",
      "8/8 [==============================] - 0s 26ms/step - loss: 18.4877 - out_oscillators_0_waveform_loss: 1.4586 - out_oscillators_0_octave_loss: 1.8430 - out_oscillators_0_unison_voices_loss: 1.3436 - out_oscillators_0_unison_detune_loss: 0.2151 - out_filter_type_loss: 1.0642 - out_filter_cutoff_loss: 0.2149 - out_filter_envelope_attack_loss: 0.2454 - out_filter_envelope_decay_loss: 0.2280 - out_filter_envelope_sustain_loss: 0.2179 - out_filter_envelope_release_loss: 0.2261 - out_filter_envelope_amount_loss: 0.4755 - out_filter_lfo_waveform_loss: 1.3533 - out_filter_lfo_frequency_loss: 0.2155 - out_filter_lfo_delay_loss: 0.2287 - out_filter_lfo_amount_loss: 0.2301 - out_pitch_envelope_attack_loss: 0.2193 - out_pitch_envelope_decay_loss: 0.2049 - out_pitch_envelope_sustain_loss: 0.2177 - out_pitch_envelope_release_loss: 0.2257 - out_pitch_envelope_amount_loss: 0.4853 - out_pitch_lfo_waveform_loss: 1.3629 - out_pitch_lfo_frequency_loss: 0.2296 - out_pitch_lfo_delay_loss: 0.2298 - out_pitch_lfo_amount_loss: 0.2242 - out_amplitude_envelope_attack_loss: 0.2243 - out_amplitude_envelope_decay_loss: 0.2298 - out_amplitude_envelope_sustain_loss: 0.2326 - out_amplitude_envelope_release_loss: 0.1805 - out_amplitude_lfo_waveform_loss: 1.3559 - out_amplitude_lfo_frequency_loss: 0.2230 - out_amplitude_lfo_delay_loss: 0.2037 - out_amplitude_lfo_amount_loss: 0.2056 - out_delay_time_loss: 0.2170 - out_delay_feedback_loss: 0.2212 - out_delay_repetitions_loss: 1.5689 - out_delay_mix_loss: 0.2372 - out_reverb_time_loss: 0.2113 - out_reverb_mix_loss: 0.2175 - out_oscillators_0_waveform_categorical_accuracy: 0.3906 - out_oscillators_0_octave_categorical_accuracy: 0.3203 - out_oscillators_0_unison_voices_categorical_accuracy: 0.3672 - out_filter_type_categorical_accuracy: 0.4258 - out_filter_lfo_waveform_categorical_accuracy: 0.3359 - out_pitch_lfo_waveform_categorical_accuracy: 0.3320 - out_amplitude_lfo_waveform_categorical_accuracy: 0.3516 - out_delay_repetitions_categorical_accuracy: 0.3594 - val_loss: 20.0404 - val_out_oscillators_0_waveform_loss: 1.4962 - val_out_oscillators_0_octave_loss: 1.9004 - val_out_oscillators_0_unison_voices_loss: 1.4491 - val_out_oscillators_0_unison_detune_loss: 0.2608 - val_out_filter_type_loss: 1.1326 - val_out_filter_cutoff_loss: 0.2711 - val_out_filter_envelope_attack_loss: 0.2924 - val_out_filter_envelope_decay_loss: 0.2284 - val_out_filter_envelope_sustain_loss: 0.2478 - val_out_filter_envelope_release_loss: 0.2950 - val_out_filter_envelope_amount_loss: 0.4696 - val_out_filter_lfo_waveform_loss: 1.3822 - val_out_filter_lfo_frequency_loss: 0.3067 - val_out_filter_lfo_delay_loss: 0.2647 - val_out_filter_lfo_amount_loss: 0.2281 - val_out_pitch_envelope_attack_loss: 0.2752 - val_out_pitch_envelope_decay_loss: 0.2610 - val_out_pitch_envelope_sustain_loss: 0.3316 - val_out_pitch_envelope_release_loss: 0.3122 - val_out_pitch_envelope_amount_loss: 0.5128 - val_out_pitch_lfo_waveform_loss: 1.3775 - val_out_pitch_lfo_frequency_loss: 0.2488 - val_out_pitch_lfo_delay_loss: 0.2504 - val_out_pitch_lfo_amount_loss: 0.2508 - val_out_amplitude_envelope_attack_loss: 0.2672 - val_out_amplitude_envelope_decay_loss: 0.2724 - val_out_amplitude_envelope_sustain_loss: 0.2333 - val_out_amplitude_envelope_release_loss: 0.1896 - val_out_amplitude_lfo_waveform_loss: 1.4022 - val_out_amplitude_lfo_frequency_loss: 0.2355 - val_out_amplitude_lfo_delay_loss: 0.3076 - val_out_amplitude_lfo_amount_loss: 0.2378 - val_out_delay_time_loss: 0.2886 - val_out_delay_feedback_loss: 0.2241 - val_out_delay_repetitions_loss: 1.6327 - val_out_delay_mix_loss: 0.2665 - val_out_reverb_time_loss: 0.1984 - val_out_reverb_mix_loss: 0.2391 - val_out_oscillators_0_waveform_categorical_accuracy: 0.3438 - val_out_oscillators_0_octave_categorical_accuracy: 0.2812 - val_out_oscillators_0_unison_voices_categorical_accuracy: 0.1562 - val_out_filter_type_categorical_accuracy: 0.2500 - val_out_filter_lfo_waveform_categorical_accuracy: 0.2812 - val_out_pitch_lfo_waveform_categorical_accuracy: 0.2812 - val_out_amplitude_lfo_waveform_categorical_accuracy: 0.2500 - val_out_delay_repetitions_categorical_accuracy: 0.1875\n"
     ]
    },
    {
     "name": "stdout",
     "output_type": "stream",
     "text": [
      "Epoch 13/20\n",
      "8/8 [==============================] - 0s 25ms/step - loss: 18.3514 - out_oscillators_0_waveform_loss: 1.4430 - out_oscillators_0_octave_loss: 1.8340 - out_oscillators_0_unison_voices_loss: 1.3402 - out_oscillators_0_unison_detune_loss: 0.2113 - out_filter_type_loss: 1.0610 - out_filter_cutoff_loss: 0.2106 - out_filter_envelope_attack_loss: 0.2440 - out_filter_envelope_decay_loss: 0.2240 - out_filter_envelope_sustain_loss: 0.2131 - out_filter_envelope_release_loss: 0.2200 - out_filter_envelope_amount_loss: 0.4724 - out_filter_lfo_waveform_loss: 1.3494 - out_filter_lfo_frequency_loss: 0.2150 - out_filter_lfo_delay_loss: 0.2235 - out_filter_lfo_amount_loss: 0.2292 - out_pitch_envelope_attack_loss: 0.2166 - out_pitch_envelope_decay_loss: 0.2054 - out_pitch_envelope_sustain_loss: 0.2147 - out_pitch_envelope_release_loss: 0.2217 - out_pitch_envelope_amount_loss: 0.4779 - out_pitch_lfo_waveform_loss: 1.3593 - out_pitch_lfo_frequency_loss: 0.2299 - out_pitch_lfo_delay_loss: 0.2263 - out_pitch_lfo_amount_loss: 0.2214 - out_amplitude_envelope_attack_loss: 0.2225 - out_amplitude_envelope_decay_loss: 0.2248 - out_amplitude_envelope_sustain_loss: 0.2291 - out_amplitude_envelope_release_loss: 0.1799 - out_amplitude_lfo_waveform_loss: 1.3530 - out_amplitude_lfo_frequency_loss: 0.2224 - out_amplitude_lfo_delay_loss: 0.2001 - out_amplitude_lfo_amount_loss: 0.2028 - out_delay_time_loss: 0.2207 - out_delay_feedback_loss: 0.2134 - out_delay_repetitions_loss: 1.5638 - out_delay_mix_loss: 0.2312 - out_reverb_time_loss: 0.2060 - out_reverb_mix_loss: 0.2180 - out_oscillators_0_waveform_categorical_accuracy: 0.3984 - out_oscillators_0_octave_categorical_accuracy: 0.3672 - out_oscillators_0_unison_voices_categorical_accuracy: 0.3672 - out_filter_type_categorical_accuracy: 0.4336 - out_filter_lfo_waveform_categorical_accuracy: 0.3828 - out_pitch_lfo_waveform_categorical_accuracy: 0.3359 - out_amplitude_lfo_waveform_categorical_accuracy: 0.3438 - out_delay_repetitions_categorical_accuracy: 0.3359 - val_loss: 20.0915 - val_out_oscillators_0_waveform_loss: 1.4915 - val_out_oscillators_0_octave_loss: 1.8935 - val_out_oscillators_0_unison_voices_loss: 1.4528 - val_out_oscillators_0_unison_detune_loss: 0.2618 - val_out_filter_type_loss: 1.1378 - val_out_filter_cutoff_loss: 0.2612 - val_out_filter_envelope_attack_loss: 0.2937 - val_out_filter_envelope_decay_loss: 0.2340 - val_out_filter_envelope_sustain_loss: 0.2707 - val_out_filter_envelope_release_loss: 0.2941 - val_out_filter_envelope_amount_loss: 0.4736 - val_out_filter_lfo_waveform_loss: 1.3804 - val_out_filter_lfo_frequency_loss: 0.2893 - val_out_filter_lfo_delay_loss: 0.2578 - val_out_filter_lfo_amount_loss: 0.2308 - val_out_pitch_envelope_attack_loss: 0.2913 - val_out_pitch_envelope_decay_loss: 0.2640 - val_out_pitch_envelope_sustain_loss: 0.3168 - val_out_pitch_envelope_release_loss: 0.3213 - val_out_pitch_envelope_amount_loss: 0.5159 - val_out_pitch_lfo_waveform_loss: 1.3725 - val_out_pitch_lfo_frequency_loss: 0.2507 - val_out_pitch_lfo_delay_loss: 0.2508 - val_out_pitch_lfo_amount_loss: 0.2643 - val_out_amplitude_envelope_attack_loss: 0.2679 - val_out_amplitude_envelope_decay_loss: 0.2650 - val_out_amplitude_envelope_sustain_loss: 0.2381 - val_out_amplitude_envelope_release_loss: 0.1909 - val_out_amplitude_lfo_waveform_loss: 1.4039 - val_out_amplitude_lfo_frequency_loss: 0.2265 - val_out_amplitude_lfo_delay_loss: 0.2911 - val_out_amplitude_lfo_amount_loss: 0.2431 - val_out_delay_time_loss: 0.3137 - val_out_delay_feedback_loss: 0.2273 - val_out_delay_repetitions_loss: 1.6372 - val_out_delay_mix_loss: 0.2729 - val_out_reverb_time_loss: 0.2061 - val_out_reverb_mix_loss: 0.2371 - val_out_oscillators_0_waveform_categorical_accuracy: 0.3438 - val_out_oscillators_0_octave_categorical_accuracy: 0.2812 - val_out_oscillators_0_unison_voices_categorical_accuracy: 0.1875 - val_out_filter_type_categorical_accuracy: 0.2500 - val_out_filter_lfo_waveform_categorical_accuracy: 0.2500 - val_out_pitch_lfo_waveform_categorical_accuracy: 0.3438 - val_out_amplitude_lfo_waveform_categorical_accuracy: 0.2500 - val_out_delay_repetitions_categorical_accuracy: 0.1875\n",
      "Epoch 14/20\n",
      "8/8 [==============================] - 0s 25ms/step - loss: 18.2612 - out_oscillators_0_waveform_loss: 1.4320 - out_oscillators_0_octave_loss: 1.8254 - out_oscillators_0_unison_voices_loss: 1.3381 - out_oscillators_0_unison_detune_loss: 0.2102 - out_filter_type_loss: 1.0580 - out_filter_cutoff_loss: 0.2148 - out_filter_envelope_attack_loss: 0.2413 - out_filter_envelope_decay_loss: 0.2222 - out_filter_envelope_sustain_loss: 0.2142 - out_filter_envelope_release_loss: 0.2207 - out_filter_envelope_amount_loss: 0.4666 - out_filter_lfo_waveform_loss: 1.3434 - out_filter_lfo_frequency_loss: 0.2093 - out_filter_lfo_delay_loss: 0.2138 - out_filter_lfo_amount_loss: 0.2280 - out_pitch_envelope_attack_loss: 0.2102 - out_pitch_envelope_decay_loss: 0.2036 - out_pitch_envelope_sustain_loss: 0.2154 - out_pitch_envelope_release_loss: 0.2262 - out_pitch_envelope_amount_loss: 0.4782 - out_pitch_lfo_waveform_loss: 1.3572 - out_pitch_lfo_frequency_loss: 0.2225 - out_pitch_lfo_delay_loss: 0.2254 - out_pitch_lfo_amount_loss: 0.2199 - out_amplitude_envelope_attack_loss: 0.2189 - out_amplitude_envelope_decay_loss: 0.2267 - out_amplitude_envelope_sustain_loss: 0.2251 - out_amplitude_envelope_release_loss: 0.1761 - out_amplitude_lfo_waveform_loss: 1.3499 - out_amplitude_lfo_frequency_loss: 0.2199 - out_amplitude_lfo_delay_loss: 0.2058 - out_amplitude_lfo_amount_loss: 0.2071 - out_delay_time_loss: 0.2185 - out_delay_feedback_loss: 0.2076 - out_delay_repetitions_loss: 1.5611 - out_delay_mix_loss: 0.2307 - out_reverb_time_loss: 0.2041 - out_reverb_mix_loss: 0.2132 - out_oscillators_0_waveform_categorical_accuracy: 0.4062 - out_oscillators_0_octave_categorical_accuracy: 0.3555 - out_oscillators_0_unison_voices_categorical_accuracy: 0.3594 - out_filter_type_categorical_accuracy: 0.4336 - out_filter_lfo_waveform_categorical_accuracy: 0.3867 - out_pitch_lfo_waveform_categorical_accuracy: 0.3438 - out_amplitude_lfo_waveform_categorical_accuracy: 0.3516 - out_delay_repetitions_categorical_accuracy: 0.3398 - val_loss: 19.9906 - val_out_oscillators_0_waveform_loss: 1.4804 - val_out_oscillators_0_octave_loss: 1.8941 - val_out_oscillators_0_unison_voices_loss: 1.4627 - val_out_oscillators_0_unison_detune_loss: 0.2592 - val_out_filter_type_loss: 1.1345 - val_out_filter_cutoff_loss: 0.2728 - val_out_filter_envelope_attack_loss: 0.2870 - val_out_filter_envelope_decay_loss: 0.2262 - val_out_filter_envelope_sustain_loss: 0.2487 - val_out_filter_envelope_release_loss: 0.2941 - val_out_filter_envelope_amount_loss: 0.4714 - val_out_filter_lfo_waveform_loss: 1.3792 - val_out_filter_lfo_frequency_loss: 0.2969 - val_out_filter_lfo_delay_loss: 0.2657 - val_out_filter_lfo_amount_loss: 0.2228 - val_out_pitch_envelope_attack_loss: 0.2804 - val_out_pitch_envelope_decay_loss: 0.2617 - val_out_pitch_envelope_sustain_loss: 0.3256 - val_out_pitch_envelope_release_loss: 0.3100 - val_out_pitch_envelope_amount_loss: 0.5081 - val_out_pitch_lfo_waveform_loss: 1.3754 - val_out_pitch_lfo_frequency_loss: 0.2495 - val_out_pitch_lfo_delay_loss: 0.2472 - val_out_pitch_lfo_amount_loss: 0.2512 - val_out_amplitude_envelope_attack_loss: 0.2671 - val_out_amplitude_envelope_decay_loss: 0.2734 - val_out_amplitude_envelope_sustain_loss: 0.2297 - val_out_amplitude_envelope_release_loss: 0.1827 - val_out_amplitude_lfo_waveform_loss: 1.4060 - val_out_amplitude_lfo_frequency_loss: 0.2339 - val_out_amplitude_lfo_delay_loss: 0.2881 - val_out_amplitude_lfo_amount_loss: 0.2415 - val_out_delay_time_loss: 0.2941 - val_out_delay_feedback_loss: 0.2246 - val_out_delay_repetitions_loss: 1.6379 - val_out_delay_mix_loss: 0.2688 - val_out_reverb_time_loss: 0.1996 - val_out_reverb_mix_loss: 0.2381 - val_out_oscillators_0_waveform_categorical_accuracy: 0.3438 - val_out_oscillators_0_octave_categorical_accuracy: 0.2812 - val_out_oscillators_0_unison_voices_categorical_accuracy: 0.1562 - val_out_filter_type_categorical_accuracy: 0.2500 - val_out_filter_lfo_waveform_categorical_accuracy: 0.2500 - val_out_pitch_lfo_waveform_categorical_accuracy: 0.3125 - val_out_amplitude_lfo_waveform_categorical_accuracy: 0.2188 - val_out_delay_repetitions_categorical_accuracy: 0.2188\n"
     ]
    },
    {
     "name": "stdout",
     "output_type": "stream",
     "text": [
      "Epoch 15/20\n",
      "8/8 [==============================] - 0s 25ms/step - loss: 18.1505 - out_oscillators_0_waveform_loss: 1.4189 - out_oscillators_0_octave_loss: 1.8154 - out_oscillators_0_unison_voices_loss: 1.3350 - out_oscillators_0_unison_detune_loss: 0.2051 - out_filter_type_loss: 1.0564 - out_filter_cutoff_loss: 0.2208 - out_filter_envelope_attack_loss: 0.2390 - out_filter_envelope_decay_loss: 0.2209 - out_filter_envelope_sustain_loss: 0.2082 - out_filter_envelope_release_loss: 0.2215 - out_filter_envelope_amount_loss: 0.4643 - out_filter_lfo_waveform_loss: 1.3417 - out_filter_lfo_frequency_loss: 0.2125 - out_filter_lfo_delay_loss: 0.2188 - out_filter_lfo_amount_loss: 0.2220 - out_pitch_envelope_attack_loss: 0.2102 - out_pitch_envelope_decay_loss: 0.1998 - out_pitch_envelope_sustain_loss: 0.2135 - out_pitch_envelope_release_loss: 0.2185 - out_pitch_envelope_amount_loss: 0.4723 - out_pitch_lfo_waveform_loss: 1.3528 - out_pitch_lfo_frequency_loss: 0.2283 - out_pitch_lfo_delay_loss: 0.2275 - out_pitch_lfo_amount_loss: 0.2175 - out_amplitude_envelope_attack_loss: 0.2184 - out_amplitude_envelope_decay_loss: 0.2247 - out_amplitude_envelope_sustain_loss: 0.2217 - out_amplitude_envelope_release_loss: 0.1734 - out_amplitude_lfo_waveform_loss: 1.3462 - out_amplitude_lfo_frequency_loss: 0.2168 - out_amplitude_lfo_delay_loss: 0.1985 - out_amplitude_lfo_amount_loss: 0.1982 - out_delay_time_loss: 0.2107 - out_delay_feedback_loss: 0.2048 - out_delay_repetitions_loss: 1.5581 - out_delay_mix_loss: 0.2274 - out_reverb_time_loss: 0.1990 - out_reverb_mix_loss: 0.2117 - out_oscillators_0_waveform_categorical_accuracy: 0.4062 - out_oscillators_0_octave_categorical_accuracy: 0.3594 - out_oscillators_0_unison_voices_categorical_accuracy: 0.3750 - out_filter_type_categorical_accuracy: 0.4336 - out_filter_lfo_waveform_categorical_accuracy: 0.3672 - out_pitch_lfo_waveform_categorical_accuracy: 0.3633 - out_amplitude_lfo_waveform_categorical_accuracy: 0.3477 - out_delay_repetitions_categorical_accuracy: 0.3477 - val_loss: 20.0427 - val_out_oscillators_0_waveform_loss: 1.4743 - val_out_oscillators_0_octave_loss: 1.8895 - val_out_oscillators_0_unison_voices_loss: 1.4720 - val_out_oscillators_0_unison_detune_loss: 0.2607 - val_out_filter_type_loss: 1.1492 - val_out_filter_cutoff_loss: 0.2530 - val_out_filter_envelope_attack_loss: 0.2915 - val_out_filter_envelope_decay_loss: 0.2373 - val_out_filter_envelope_sustain_loss: 0.2526 - val_out_filter_envelope_release_loss: 0.2963 - val_out_filter_envelope_amount_loss: 0.4769 - val_out_filter_lfo_waveform_loss: 1.3812 - val_out_filter_lfo_frequency_loss: 0.2956 - val_out_filter_lfo_delay_loss: 0.2537 - val_out_filter_lfo_amount_loss: 0.2223 - val_out_pitch_envelope_attack_loss: 0.3079 - val_out_pitch_envelope_decay_loss: 0.2651 - val_out_pitch_envelope_sustain_loss: 0.2924 - val_out_pitch_envelope_release_loss: 0.2818 - val_out_pitch_envelope_amount_loss: 0.5024 - val_out_pitch_lfo_waveform_loss: 1.3757 - val_out_pitch_lfo_frequency_loss: 0.2518 - val_out_pitch_lfo_delay_loss: 0.2530 - val_out_pitch_lfo_amount_loss: 0.2477 - val_out_amplitude_envelope_attack_loss: 0.2731 - val_out_amplitude_envelope_decay_loss: 0.2800 - val_out_amplitude_envelope_sustain_loss: 0.2373 - val_out_amplitude_envelope_release_loss: 0.1847 - val_out_amplitude_lfo_waveform_loss: 1.4096 - val_out_amplitude_lfo_frequency_loss: 0.2396 - val_out_amplitude_lfo_delay_loss: 0.3029 - val_out_amplitude_lfo_amount_loss: 0.2393 - val_out_delay_time_loss: 0.2784 - val_out_delay_feedback_loss: 0.2330 - val_out_delay_repetitions_loss: 1.6370 - val_out_delay_mix_loss: 0.2752 - val_out_reverb_time_loss: 0.2272 - val_out_reverb_mix_loss: 0.2414 - val_out_oscillators_0_waveform_categorical_accuracy: 0.3438 - val_out_oscillators_0_octave_categorical_accuracy: 0.2812 - val_out_oscillators_0_unison_voices_categorical_accuracy: 0.1562 - val_out_filter_type_categorical_accuracy: 0.2188 - val_out_filter_lfo_waveform_categorical_accuracy: 0.2188 - val_out_pitch_lfo_waveform_categorical_accuracy: 0.3750 - val_out_amplitude_lfo_waveform_categorical_accuracy: 0.2188 - val_out_delay_repetitions_categorical_accuracy: 0.2188\n",
      "Epoch 16/20\n",
      "8/8 [==============================] - 0s 25ms/step - loss: 18.0340 - out_oscillators_0_waveform_loss: 1.4045 - out_oscillators_0_octave_loss: 1.8044 - out_oscillators_0_unison_voices_loss: 1.3298 - out_oscillators_0_unison_detune_loss: 0.2066 - out_filter_type_loss: 1.0525 - out_filter_cutoff_loss: 0.2104 - out_filter_envelope_attack_loss: 0.2332 - out_filter_envelope_decay_loss: 0.2186 - out_filter_envelope_sustain_loss: 0.2060 - out_filter_envelope_release_loss: 0.2129 - out_filter_envelope_amount_loss: 0.4579 - out_filter_lfo_waveform_loss: 1.3377 - out_filter_lfo_frequency_loss: 0.2186 - out_filter_lfo_delay_loss: 0.2163 - out_filter_lfo_amount_loss: 0.2282 - out_pitch_envelope_attack_loss: 0.2148 - out_pitch_envelope_decay_loss: 0.1991 - out_pitch_envelope_sustain_loss: 0.2077 - out_pitch_envelope_release_loss: 0.2067 - out_pitch_envelope_amount_loss: 0.4668 - out_pitch_lfo_waveform_loss: 1.3509 - out_pitch_lfo_frequency_loss: 0.2174 - out_pitch_lfo_delay_loss: 0.2242 - out_pitch_lfo_amount_loss: 0.2175 - out_amplitude_envelope_attack_loss: 0.2153 - out_amplitude_envelope_decay_loss: 0.2184 - out_amplitude_envelope_sustain_loss: 0.2215 - out_amplitude_envelope_release_loss: 0.1707 - out_amplitude_lfo_waveform_loss: 1.3454 - out_amplitude_lfo_frequency_loss: 0.2191 - out_amplitude_lfo_delay_loss: 0.1988 - out_amplitude_lfo_amount_loss: 0.1922 - out_delay_time_loss: 0.2187 - out_delay_feedback_loss: 0.2100 - out_delay_repetitions_loss: 1.5527 - out_delay_mix_loss: 0.2193 - out_reverb_time_loss: 0.2049 - out_reverb_mix_loss: 0.2042 - out_oscillators_0_waveform_categorical_accuracy: 0.4023 - out_oscillators_0_octave_categorical_accuracy: 0.3555 - out_oscillators_0_unison_voices_categorical_accuracy: 0.3828 - out_filter_type_categorical_accuracy: 0.4258 - out_filter_lfo_waveform_categorical_accuracy: 0.4023 - out_pitch_lfo_waveform_categorical_accuracy: 0.3711 - out_amplitude_lfo_waveform_categorical_accuracy: 0.3633 - out_delay_repetitions_categorical_accuracy: 0.3750 - val_loss: 20.0362 - val_out_oscillators_0_waveform_loss: 1.4681 - val_out_oscillators_0_octave_loss: 1.8871 - val_out_oscillators_0_unison_voices_loss: 1.4867 - val_out_oscillators_0_unison_detune_loss: 0.2536 - val_out_filter_type_loss: 1.1311 - val_out_filter_cutoff_loss: 0.2474 - val_out_filter_envelope_attack_loss: 0.2993 - val_out_filter_envelope_decay_loss: 0.2357 - val_out_filter_envelope_sustain_loss: 0.2492 - val_out_filter_envelope_release_loss: 0.2855 - val_out_filter_envelope_amount_loss: 0.4681 - val_out_filter_lfo_waveform_loss: 1.3832 - val_out_filter_lfo_frequency_loss: 0.2876 - val_out_filter_lfo_delay_loss: 0.2578 - val_out_filter_lfo_amount_loss: 0.2215 - val_out_pitch_envelope_attack_loss: 0.2783 - val_out_pitch_envelope_decay_loss: 0.2691 - val_out_pitch_envelope_sustain_loss: 0.3090 - val_out_pitch_envelope_release_loss: 0.2967 - val_out_pitch_envelope_amount_loss: 0.5149 - val_out_pitch_lfo_waveform_loss: 1.3763 - val_out_pitch_lfo_frequency_loss: 0.2550 - val_out_pitch_lfo_delay_loss: 0.2506 - val_out_pitch_lfo_amount_loss: 0.2327 - val_out_amplitude_envelope_attack_loss: 0.2721 - val_out_amplitude_envelope_decay_loss: 0.2906 - val_out_amplitude_envelope_sustain_loss: 0.2667 - val_out_amplitude_envelope_release_loss: 0.1784 - val_out_amplitude_lfo_waveform_loss: 1.4055 - val_out_amplitude_lfo_frequency_loss: 0.2310 - val_out_amplitude_lfo_delay_loss: 0.3102 - val_out_amplitude_lfo_amount_loss: 0.2465 - val_out_delay_time_loss: 0.2824 - val_out_delay_feedback_loss: 0.2303 - val_out_delay_repetitions_loss: 1.6405 - val_out_delay_mix_loss: 0.2939 - val_out_reverb_time_loss: 0.2080 - val_out_reverb_mix_loss: 0.2356 - val_out_oscillators_0_waveform_categorical_accuracy: 0.3438 - val_out_oscillators_0_octave_categorical_accuracy: 0.2812 - val_out_oscillators_0_unison_voices_categorical_accuracy: 0.1562 - val_out_filter_type_categorical_accuracy: 0.2812 - val_out_filter_lfo_waveform_categorical_accuracy: 0.2812 - val_out_pitch_lfo_waveform_categorical_accuracy: 0.3438 - val_out_amplitude_lfo_waveform_categorical_accuracy: 0.2500 - val_out_delay_repetitions_categorical_accuracy: 0.1875\n"
     ]
    },
    {
     "name": "stdout",
     "output_type": "stream",
     "text": [
      "Epoch 17/20\n",
      "8/8 [==============================] - 0s 25ms/step - loss: 17.9661 - out_oscillators_0_waveform_loss: 1.3970 - out_oscillators_0_octave_loss: 1.7967 - out_oscillators_0_unison_voices_loss: 1.3259 - out_oscillators_0_unison_detune_loss: 0.2081 - out_filter_type_loss: 1.0502 - out_filter_cutoff_loss: 0.1981 - out_filter_envelope_attack_loss: 0.2310 - out_filter_envelope_decay_loss: 0.2181 - out_filter_envelope_sustain_loss: 0.2143 - out_filter_envelope_release_loss: 0.2193 - out_filter_envelope_amount_loss: 0.4526 - out_filter_lfo_waveform_loss: 1.3348 - out_filter_lfo_frequency_loss: 0.2091 - out_filter_lfo_delay_loss: 0.2105 - out_filter_lfo_amount_loss: 0.2155 - out_pitch_envelope_attack_loss: 0.2290 - out_pitch_envelope_decay_loss: 0.1933 - out_pitch_envelope_sustain_loss: 0.2113 - out_pitch_envelope_release_loss: 0.2191 - out_pitch_envelope_amount_loss: 0.4649 - out_pitch_lfo_waveform_loss: 1.3473 - out_pitch_lfo_frequency_loss: 0.2196 - out_pitch_lfo_delay_loss: 0.2190 - out_pitch_lfo_amount_loss: 0.2167 - out_amplitude_envelope_attack_loss: 0.2131 - out_amplitude_envelope_decay_loss: 0.2155 - out_amplitude_envelope_sustain_loss: 0.2223 - out_amplitude_envelope_release_loss: 0.1727 - out_amplitude_lfo_waveform_loss: 1.3393 - out_amplitude_lfo_frequency_loss: 0.2200 - out_amplitude_lfo_delay_loss: 0.1941 - out_amplitude_lfo_amount_loss: 0.1896 - out_delay_time_loss: 0.2088 - out_delay_feedback_loss: 0.2014 - out_delay_repetitions_loss: 1.5506 - out_delay_mix_loss: 0.2165 - out_reverb_time_loss: 0.2029 - out_reverb_mix_loss: 0.2180 - out_oscillators_0_waveform_categorical_accuracy: 0.4141 - out_oscillators_0_octave_categorical_accuracy: 0.3555 - out_oscillators_0_unison_voices_categorical_accuracy: 0.3750 - out_filter_type_categorical_accuracy: 0.4375 - out_filter_lfo_waveform_categorical_accuracy: 0.3828 - out_pitch_lfo_waveform_categorical_accuracy: 0.3633 - out_amplitude_lfo_waveform_categorical_accuracy: 0.3672 - out_delay_repetitions_categorical_accuracy: 0.3516 - val_loss: 19.9802 - val_out_oscillators_0_waveform_loss: 1.4561 - val_out_oscillators_0_octave_loss: 1.8697 - val_out_oscillators_0_unison_voices_loss: 1.4892 - val_out_oscillators_0_unison_detune_loss: 0.2506 - val_out_filter_type_loss: 1.1400 - val_out_filter_cutoff_loss: 0.2654 - val_out_filter_envelope_attack_loss: 0.3071 - val_out_filter_envelope_decay_loss: 0.2557 - val_out_filter_envelope_sustain_loss: 0.2452 - val_out_filter_envelope_release_loss: 0.2858 - val_out_filter_envelope_amount_loss: 0.4616 - val_out_filter_lfo_waveform_loss: 1.3793 - val_out_filter_lfo_frequency_loss: 0.3068 - val_out_filter_lfo_delay_loss: 0.2610 - val_out_filter_lfo_amount_loss: 0.2241 - val_out_pitch_envelope_attack_loss: 0.2694 - val_out_pitch_envelope_decay_loss: 0.2665 - val_out_pitch_envelope_sustain_loss: 0.2969 - val_out_pitch_envelope_release_loss: 0.3154 - val_out_pitch_envelope_amount_loss: 0.5142 - val_out_pitch_lfo_waveform_loss: 1.3715 - val_out_pitch_lfo_frequency_loss: 0.2505 - val_out_pitch_lfo_delay_loss: 0.2525 - val_out_pitch_lfo_amount_loss: 0.2328 - val_out_amplitude_envelope_attack_loss: 0.2728 - val_out_amplitude_envelope_decay_loss: 0.2722 - val_out_amplitude_envelope_sustain_loss: 0.2387 - val_out_amplitude_envelope_release_loss: 0.1813 - val_out_amplitude_lfo_waveform_loss: 1.4067 - val_out_amplitude_lfo_frequency_loss: 0.2371 - val_out_amplitude_lfo_delay_loss: 0.2998 - val_out_amplitude_lfo_amount_loss: 0.2395 - val_out_delay_time_loss: 0.2793 - val_out_delay_feedback_loss: 0.2273 - val_out_delay_repetitions_loss: 1.6416 - val_out_delay_mix_loss: 0.2778 - val_out_reverb_time_loss: 0.2025 - val_out_reverb_mix_loss: 0.2363 - val_out_oscillators_0_waveform_categorical_accuracy: 0.3438 - val_out_oscillators_0_octave_categorical_accuracy: 0.2812 - val_out_oscillators_0_unison_voices_categorical_accuracy: 0.1562 - val_out_filter_type_categorical_accuracy: 0.2500 - val_out_filter_lfo_waveform_categorical_accuracy: 0.2188 - val_out_pitch_lfo_waveform_categorical_accuracy: 0.3750 - val_out_amplitude_lfo_waveform_categorical_accuracy: 0.2188 - val_out_delay_repetitions_categorical_accuracy: 0.1875\n",
      "Epoch 18/20\n",
      "8/8 [==============================] - 0s 24ms/step - loss: 17.8422 - out_oscillators_0_waveform_loss: 1.3841 - out_oscillators_0_octave_loss: 1.7867 - out_oscillators_0_unison_voices_loss: 1.3232 - out_oscillators_0_unison_detune_loss: 0.2048 - out_filter_type_loss: 1.0502 - out_filter_cutoff_loss: 0.2082 - out_filter_envelope_attack_loss: 0.2322 - out_filter_envelope_decay_loss: 0.2159 - out_filter_envelope_sustain_loss: 0.2054 - out_filter_envelope_release_loss: 0.2165 - out_filter_envelope_amount_loss: 0.4570 - out_filter_lfo_waveform_loss: 1.3344 - out_filter_lfo_frequency_loss: 0.2035 - out_filter_lfo_delay_loss: 0.2034 - out_filter_lfo_amount_loss: 0.2126 - out_pitch_envelope_attack_loss: 0.2136 - out_pitch_envelope_decay_loss: 0.1893 - out_pitch_envelope_sustain_loss: 0.2065 - out_pitch_envelope_release_loss: 0.2121 - out_pitch_envelope_amount_loss: 0.4623 - out_pitch_lfo_waveform_loss: 1.3439 - out_pitch_lfo_frequency_loss: 0.2188 - out_pitch_lfo_delay_loss: 0.2161 - out_pitch_lfo_amount_loss: 0.2173 - out_amplitude_envelope_attack_loss: 0.2113 - out_amplitude_envelope_decay_loss: 0.2149 - out_amplitude_envelope_sustain_loss: 0.2227 - out_amplitude_envelope_release_loss: 0.1737 - out_amplitude_lfo_waveform_loss: 1.3386 - out_amplitude_lfo_frequency_loss: 0.2141 - out_amplitude_lfo_delay_loss: 0.1942 - out_amplitude_lfo_amount_loss: 0.1928 - out_delay_time_loss: 0.2011 - out_delay_feedback_loss: 0.1999 - out_delay_repetitions_loss: 1.5461 - out_delay_mix_loss: 0.2230 - out_reverb_time_loss: 0.1913 - out_reverb_mix_loss: 0.2007 - out_oscillators_0_waveform_categorical_accuracy: 0.4141 - out_oscillators_0_octave_categorical_accuracy: 0.3750 - out_oscillators_0_unison_voices_categorical_accuracy: 0.4062 - out_filter_type_categorical_accuracy: 0.4297 - out_filter_lfo_waveform_categorical_accuracy: 0.4062 - out_pitch_lfo_waveform_categorical_accuracy: 0.3789 - out_amplitude_lfo_waveform_categorical_accuracy: 0.3594 - out_delay_repetitions_categorical_accuracy: 0.3711 - val_loss: 20.0243 - val_out_oscillators_0_waveform_loss: 1.4569 - val_out_oscillators_0_octave_loss: 1.8697 - val_out_oscillators_0_unison_voices_loss: 1.4964 - val_out_oscillators_0_unison_detune_loss: 0.2543 - val_out_filter_type_loss: 1.1280 - val_out_filter_cutoff_loss: 0.2659 - val_out_filter_envelope_attack_loss: 0.3007 - val_out_filter_envelope_decay_loss: 0.2547 - val_out_filter_envelope_sustain_loss: 0.2432 - val_out_filter_envelope_release_loss: 0.2802 - val_out_filter_envelope_amount_loss: 0.4674 - val_out_filter_lfo_waveform_loss: 1.3848 - val_out_filter_lfo_frequency_loss: 0.2879 - val_out_filter_lfo_delay_loss: 0.2566 - val_out_filter_lfo_amount_loss: 0.2242 - val_out_pitch_envelope_attack_loss: 0.2756 - val_out_pitch_envelope_decay_loss: 0.2779 - val_out_pitch_envelope_sustain_loss: 0.2962 - val_out_pitch_envelope_release_loss: 0.2889 - val_out_pitch_envelope_amount_loss: 0.5185 - val_out_pitch_lfo_waveform_loss: 1.3758 - val_out_pitch_lfo_frequency_loss: 0.2506 - val_out_pitch_lfo_delay_loss: 0.2554 - val_out_pitch_lfo_amount_loss: 0.2426 - val_out_amplitude_envelope_attack_loss: 0.2761 - val_out_amplitude_envelope_decay_loss: 0.2885 - val_out_amplitude_envelope_sustain_loss: 0.2515 - val_out_amplitude_envelope_release_loss: 0.1989 - val_out_amplitude_lfo_waveform_loss: 1.4076 - val_out_amplitude_lfo_frequency_loss: 0.2294 - val_out_amplitude_lfo_delay_loss: 0.3116 - val_out_amplitude_lfo_amount_loss: 0.2438 - val_out_delay_time_loss: 0.2779 - val_out_delay_feedback_loss: 0.2322 - val_out_delay_repetitions_loss: 1.6398 - val_out_delay_mix_loss: 0.2730 - val_out_reverb_time_loss: 0.2074 - val_out_reverb_mix_loss: 0.2342 - val_out_oscillators_0_waveform_categorical_accuracy: 0.3438 - val_out_oscillators_0_octave_categorical_accuracy: 0.3125 - val_out_oscillators_0_unison_voices_categorical_accuracy: 0.1562 - val_out_filter_type_categorical_accuracy: 0.2812 - val_out_filter_lfo_waveform_categorical_accuracy: 0.3125 - val_out_pitch_lfo_waveform_categorical_accuracy: 0.3438 - val_out_amplitude_lfo_waveform_categorical_accuracy: 0.2188 - val_out_delay_repetitions_categorical_accuracy: 0.2500\n"
     ]
    },
    {
     "name": "stdout",
     "output_type": "stream",
     "text": [
      "Epoch 19/20\n",
      "8/8 [==============================] - 0s 25ms/step - loss: 17.7166 - out_oscillators_0_waveform_loss: 1.3738 - out_oscillators_0_octave_loss: 1.7758 - out_oscillators_0_unison_voices_loss: 1.3166 - out_oscillators_0_unison_detune_loss: 0.2056 - out_filter_type_loss: 1.0442 - out_filter_cutoff_loss: 0.1997 - out_filter_envelope_attack_loss: 0.2235 - out_filter_envelope_decay_loss: 0.2120 - out_filter_envelope_sustain_loss: 0.2020 - out_filter_envelope_release_loss: 0.2070 - out_filter_envelope_amount_loss: 0.4447 - out_filter_lfo_waveform_loss: 1.3294 - out_filter_lfo_frequency_loss: 0.2081 - out_filter_lfo_delay_loss: 0.2139 - out_filter_lfo_amount_loss: 0.2156 - out_pitch_envelope_attack_loss: 0.2175 - out_pitch_envelope_decay_loss: 0.1880 - out_pitch_envelope_sustain_loss: 0.2000 - out_pitch_envelope_release_loss: 0.2127 - out_pitch_envelope_amount_loss: 0.4526 - out_pitch_lfo_waveform_loss: 1.3397 - out_pitch_lfo_frequency_loss: 0.2160 - out_pitch_lfo_delay_loss: 0.2124 - out_pitch_lfo_amount_loss: 0.2105 - out_amplitude_envelope_attack_loss: 0.2072 - out_amplitude_envelope_decay_loss: 0.2091 - out_amplitude_envelope_sustain_loss: 0.2150 - out_amplitude_envelope_release_loss: 0.1702 - out_amplitude_lfo_waveform_loss: 1.3337 - out_amplitude_lfo_frequency_loss: 0.2125 - out_amplitude_lfo_delay_loss: 0.1949 - out_amplitude_lfo_amount_loss: 0.1914 - out_delay_time_loss: 0.1966 - out_delay_feedback_loss: 0.1987 - out_delay_repetitions_loss: 1.5425 - out_delay_mix_loss: 0.2134 - out_reverb_time_loss: 0.1980 - out_reverb_mix_loss: 0.2123 - out_oscillators_0_waveform_categorical_accuracy: 0.4180 - out_oscillators_0_octave_categorical_accuracy: 0.3750 - out_oscillators_0_unison_voices_categorical_accuracy: 0.4062 - out_filter_type_categorical_accuracy: 0.4336 - out_filter_lfo_waveform_categorical_accuracy: 0.4492 - out_pitch_lfo_waveform_categorical_accuracy: 0.3633 - out_amplitude_lfo_waveform_categorical_accuracy: 0.3828 - out_delay_repetitions_categorical_accuracy: 0.3477 - val_loss: 20.0077 - val_out_oscillators_0_waveform_loss: 1.4550 - val_out_oscillators_0_octave_loss: 1.8646 - val_out_oscillators_0_unison_voices_loss: 1.4976 - val_out_oscillators_0_unison_detune_loss: 0.2524 - val_out_filter_type_loss: 1.1226 - val_out_filter_cutoff_loss: 0.2583 - val_out_filter_envelope_attack_loss: 0.2981 - val_out_filter_envelope_decay_loss: 0.2477 - val_out_filter_envelope_sustain_loss: 0.2428 - val_out_filter_envelope_release_loss: 0.2809 - val_out_filter_envelope_amount_loss: 0.4627 - val_out_filter_lfo_waveform_loss: 1.3802 - val_out_filter_lfo_frequency_loss: 0.2879 - val_out_filter_lfo_delay_loss: 0.2655 - val_out_filter_lfo_amount_loss: 0.2217 - val_out_pitch_envelope_attack_loss: 0.2733 - val_out_pitch_envelope_decay_loss: 0.2691 - val_out_pitch_envelope_sustain_loss: 0.3037 - val_out_pitch_envelope_release_loss: 0.2890 - val_out_pitch_envelope_amount_loss: 0.5112 - val_out_pitch_lfo_waveform_loss: 1.3772 - val_out_pitch_lfo_frequency_loss: 0.2510 - val_out_pitch_lfo_delay_loss: 0.2601 - val_out_pitch_lfo_amount_loss: 0.2349 - val_out_amplitude_envelope_attack_loss: 0.2739 - val_out_amplitude_envelope_decay_loss: 0.2747 - val_out_amplitude_envelope_sustain_loss: 0.2404 - val_out_amplitude_envelope_release_loss: 0.2134 - val_out_amplitude_lfo_waveform_loss: 1.4086 - val_out_amplitude_lfo_frequency_loss: 0.2588 - val_out_amplitude_lfo_delay_loss: 0.3019 - val_out_amplitude_lfo_amount_loss: 0.2455 - val_out_delay_time_loss: 0.2804 - val_out_delay_feedback_loss: 0.2288 - val_out_delay_repetitions_loss: 1.6409 - val_out_delay_mix_loss: 0.2773 - val_out_reverb_time_loss: 0.2113 - val_out_reverb_mix_loss: 0.2444 - val_out_oscillators_0_waveform_categorical_accuracy: 0.2812 - val_out_oscillators_0_octave_categorical_accuracy: 0.3125 - val_out_oscillators_0_unison_voices_categorical_accuracy: 0.1562 - val_out_filter_type_categorical_accuracy: 0.2812 - val_out_filter_lfo_waveform_categorical_accuracy: 0.3125 - val_out_pitch_lfo_waveform_categorical_accuracy: 0.3125 - val_out_amplitude_lfo_waveform_categorical_accuracy: 0.2188 - val_out_delay_repetitions_categorical_accuracy: 0.2188\n",
      "Epoch 20/20\n",
      "8/8 [==============================] - 0s 25ms/step - loss: 17.6368 - out_oscillators_0_waveform_loss: 1.3651 - out_oscillators_0_octave_loss: 1.7653 - out_oscillators_0_unison_voices_loss: 1.3165 - out_oscillators_0_unison_detune_loss: 0.1950 - out_filter_type_loss: 1.0409 - out_filter_cutoff_loss: 0.2074 - out_filter_envelope_attack_loss: 0.2294 - out_filter_envelope_decay_loss: 0.2070 - out_filter_envelope_sustain_loss: 0.2006 - out_filter_envelope_release_loss: 0.2125 - out_filter_envelope_amount_loss: 0.4431 - out_filter_lfo_waveform_loss: 1.3243 - out_filter_lfo_frequency_loss: 0.1968 - out_filter_lfo_delay_loss: 0.2059 - out_filter_lfo_amount_loss: 0.2165 - out_pitch_envelope_attack_loss: 0.2074 - out_pitch_envelope_decay_loss: 0.2001 - out_pitch_envelope_sustain_loss: 0.1995 - out_pitch_envelope_release_loss: 0.2149 - out_pitch_envelope_amount_loss: 0.4487 - out_pitch_lfo_waveform_loss: 1.3352 - out_pitch_lfo_frequency_loss: 0.2101 - out_pitch_lfo_delay_loss: 0.2218 - out_pitch_lfo_amount_loss: 0.2058 - out_amplitude_envelope_attack_loss: 0.2024 - out_amplitude_envelope_decay_loss: 0.2077 - out_amplitude_envelope_sustain_loss: 0.2102 - out_amplitude_envelope_release_loss: 0.1714 - out_amplitude_lfo_waveform_loss: 1.3308 - out_amplitude_lfo_frequency_loss: 0.2126 - out_amplitude_lfo_delay_loss: 0.1980 - out_amplitude_lfo_amount_loss: 0.1865 - out_delay_time_loss: 0.2010 - out_delay_feedback_loss: 0.1928 - out_delay_repetitions_loss: 1.5377 - out_delay_mix_loss: 0.2163 - out_reverb_time_loss: 0.1941 - out_reverb_mix_loss: 0.2060 - out_oscillators_0_waveform_categorical_accuracy: 0.4297 - out_oscillators_0_octave_categorical_accuracy: 0.4062 - out_oscillators_0_unison_voices_categorical_accuracy: 0.3906 - out_filter_type_categorical_accuracy: 0.4609 - out_filter_lfo_waveform_categorical_accuracy: 0.4336 - out_pitch_lfo_waveform_categorical_accuracy: 0.3750 - out_amplitude_lfo_waveform_categorical_accuracy: 0.3867 - out_delay_repetitions_categorical_accuracy: 0.3906 - val_loss: 20.0078 - val_out_oscillators_0_waveform_loss: 1.4485 - val_out_oscillators_0_octave_loss: 1.8538 - val_out_oscillators_0_unison_voices_loss: 1.5116 - val_out_oscillators_0_unison_detune_loss: 0.2646 - val_out_filter_type_loss: 1.1512 - val_out_filter_cutoff_loss: 0.2558 - val_out_filter_envelope_attack_loss: 0.3050 - val_out_filter_envelope_decay_loss: 0.2373 - val_out_filter_envelope_sustain_loss: 0.2414 - val_out_filter_envelope_release_loss: 0.2930 - val_out_filter_envelope_amount_loss: 0.4622 - val_out_filter_lfo_waveform_loss: 1.3778 - val_out_filter_lfo_frequency_loss: 0.2900 - val_out_filter_lfo_delay_loss: 0.2623 - val_out_filter_lfo_amount_loss: 0.2180 - val_out_pitch_envelope_attack_loss: 0.3027 - val_out_pitch_envelope_decay_loss: 0.2672 - val_out_pitch_envelope_sustain_loss: 0.2882 - val_out_pitch_envelope_release_loss: 0.2843 - val_out_pitch_envelope_amount_loss: 0.5114 - val_out_pitch_lfo_waveform_loss: 1.3708 - val_out_pitch_lfo_frequency_loss: 0.2626 - val_out_pitch_lfo_delay_loss: 0.2574 - val_out_pitch_lfo_amount_loss: 0.2419 - val_out_amplitude_envelope_attack_loss: 0.2749 - val_out_amplitude_envelope_decay_loss: 0.2805 - val_out_amplitude_envelope_sustain_loss: 0.2289 - val_out_amplitude_envelope_release_loss: 0.1718 - val_out_amplitude_lfo_waveform_loss: 1.4087 - val_out_amplitude_lfo_frequency_loss: 0.2266 - val_out_amplitude_lfo_delay_loss: 0.3110 - val_out_amplitude_lfo_amount_loss: 0.2413 - val_out_delay_time_loss: 0.2791 - val_out_delay_feedback_loss: 0.2329 - val_out_delay_repetitions_loss: 1.6474 - val_out_delay_mix_loss: 0.2764 - val_out_reverb_time_loss: 0.2309 - val_out_reverb_mix_loss: 0.2386 - val_out_oscillators_0_waveform_categorical_accuracy: 0.3125 - val_out_oscillators_0_octave_categorical_accuracy: 0.3438 - val_out_oscillators_0_unison_voices_categorical_accuracy: 0.1562 - val_out_filter_type_categorical_accuracy: 0.2188 - val_out_filter_lfo_waveform_categorical_accuracy: 0.1875 - val_out_pitch_lfo_waveform_categorical_accuracy: 0.3438 - val_out_amplitude_lfo_waveform_categorical_accuracy: 0.2188 - val_out_delay_repetitions_categorical_accuracy: 0.2188\n"
     ]
    }
   ],
   "source": [
    "# Train\n",
    "history = model.fit(x=G_train, epochs = 20, validation_data=G_valid)"
   ]
  },
  {
   "cell_type": "markdown",
   "id": "dfdb5406",
   "metadata": {},
   "source": [
    "# Saving the Model"
   ]
  },
  {
   "cell_type": "code",
   "execution_count": 10,
   "id": "99b7df44",
   "metadata": {},
   "outputs": [],
   "source": [
    "# Naming stands for the number of batches and epochs\n",
    "model.save('keras_models/model_9_20.keras')"
   ]
  }
 ],
 "metadata": {
  "kernelspec": {
   "display_name": "Python 3 (ipykernel)",
   "language": "python",
   "name": "python3"
  },
  "language_info": {
   "codemirror_mode": {
    "name": "ipython",
    "version": 3
   },
   "file_extension": ".py",
   "mimetype": "text/x-python",
   "name": "python",
   "nbconvert_exporter": "python",
   "pygments_lexer": "ipython3",
   "version": "3.9.16"
  }
 },
 "nbformat": 4,
 "nbformat_minor": 5
}
